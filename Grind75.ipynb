{
 "cells": [
  {
   "cell_type": "markdown",
   "id": "2983a9e0",
   "metadata": {},
   "source": [
    "## Grind75 Questions"
   ]
  },
  {
   "cell_type": "markdown",
   "id": "6fe1be4a",
   "metadata": {},
   "source": [
    "### 1. Two Sum\n",
    "Given an array of integers nums and an integer target, return indices of the two numbers such that they add up to target.\n",
    "\n",
    "You may assume that each input would have exactly one solution, and you may not use the same element twice.\n",
    "\n",
    "You can return the answer in any order."
   ]
  },
  {
   "cell_type": "code",
   "execution_count": 1,
   "id": "9f811489",
   "metadata": {},
   "outputs": [],
   "source": [
    "class Solution(object):\n",
    "    def twoSum(self, nums, target):\n",
    "        \"\"\"\n",
    "        :type nums: List[int]\n",
    "        :type target: int\n",
    "        :rtype: List[int]\n",
    "        \"\"\"\n",
    "        hashmap = {}\n",
    "        for i,n in enumerate(nums):\n",
    "            if n in hashmap:\n",
    "                return [hashmap[n],i]\n",
    "            hashmap[target-n] = i"
   ]
  },
  {
   "cell_type": "markdown",
   "id": "1b43094f",
   "metadata": {},
   "source": [
    "### 2. Valid Parentheses\n",
    "Given a string s containing just the characters '(', ')', '{', '}', '[' and ']', determine if the input string is valid.\n",
    "\n",
    "An input string is valid if:\n",
    "\n",
    "Open brackets must be closed by the same type of brackets.\n",
    "Open brackets must be closed in the correct order.\n",
    "Every close bracket has a corresponding open bracket of the same type."
   ]
  },
  {
   "cell_type": "code",
   "execution_count": 2,
   "id": "87c417af",
   "metadata": {},
   "outputs": [],
   "source": [
    "class Solution(object):\n",
    "    def isValid(self, s):\n",
    "        \"\"\"\n",
    "        :type s: str\n",
    "        :rtype: bool\n",
    "        \"\"\"\n",
    "        hashmap = {')':'(','}':'{',']':'['}\n",
    "        res = []\n",
    "        for c in s:\n",
    "            if c in hashmap.values():\n",
    "                res.append(c)\n",
    "            elif not res:\n",
    "                return False\n",
    "            elif res[-1] == hashmap[c]:\n",
    "                res.pop()\n",
    "            else: return False\n",
    "            \n",
    "        return not res"
   ]
  },
  {
   "cell_type": "code",
   "execution_count": 4,
   "id": "6f4ddd72",
   "metadata": {},
   "outputs": [],
   "source": [
    "class Solution(object):\n",
    "    def isValid(self, s):\n",
    "        \"\"\"\n",
    "        :type s: str\n",
    "        :rtype: bool\n",
    "        \"\"\"\n",
    "        d = {'(':')', '{':'}','[':']'}\n",
    "        stack = []\n",
    "        for i in s:\n",
    "            if i in d:  # 1\n",
    "                stack.append(i)\n",
    "            elif len(stack) == 0 or d[stack.pop()] != i:  # 2\n",
    "                return False\n",
    "        return len(stack) == 0 # 3"
   ]
  },
  {
   "cell_type": "markdown",
   "id": "169da990",
   "metadata": {},
   "source": [
    "### 3. Merge Two Sorted Lists\n",
    "You are given the heads of two sorted linked lists list1 and list2.\n",
    "\n",
    "Merge the two lists in a one sorted list. The list should be made by splicing together the nodes of the first two lists.\n",
    "\n",
    "Return the head of the merged linked list."
   ]
  },
  {
   "cell_type": "code",
   "execution_count": 6,
   "id": "ddbd07f4",
   "metadata": {},
   "outputs": [],
   "source": [
    "# Definition for singly-linked list.\n",
    "# class ListNode(object):\n",
    "#     def __init__(self, val=0, next=None):\n",
    "#         self.val = val\n",
    "#         self.next = next\n",
    "class Solution(object):\n",
    "    def mergeTwoLists(self, list1, list2):\n",
    "        \"\"\"\n",
    "        :type list1: Optional[ListNode]\n",
    "        :type list2: Optional[ListNode]\n",
    "        :rtype: Optional[ListNode]\n",
    "        \"\"\"\n",
    "        head = ListNode()\n",
    "        connec = head\n",
    "        while list1 and list2:\n",
    "            if list1.val < list2.val:\n",
    "                connec.next = list1\n",
    "                list1 = list1.next\n",
    "            else:\n",
    "                connec.next = list2\n",
    "                list2 = list2.next\n",
    "            connec = connec.next\n",
    "        if list1:\n",
    "            connec.next = list1\n",
    "        else:\n",
    "            connec.next = list2\n",
    "        return head.next"
   ]
  },
  {
   "cell_type": "markdown",
   "id": "0f59b35b",
   "metadata": {},
   "source": [
    "### 4. Best Time to Buy and Sell Stock\n",
    "You are given an array prices where prices[i] is the price of a given stock on the ith day.\n",
    "\n",
    "You want to maximize your profit by choosing a single day to buy one stock and choosing a different day in the future to sell that stock.\n",
    "\n",
    "Return the maximum profit you can achieve from this transaction. If you cannot achieve any profit, return 0."
   ]
  },
  {
   "cell_type": "code",
   "execution_count": 7,
   "id": "1396f0f5",
   "metadata": {},
   "outputs": [],
   "source": [
    "class Solution(object):\n",
    "    def maxProfit(self, prices):\n",
    "        \"\"\"\n",
    "        :type prices: List[int]\n",
    "        :rtype: int\n",
    "        \"\"\"\n",
    "        mini = prices[0]\n",
    "        maxi = 0\n",
    "        for n in prices:\n",
    "            if n > mini:\n",
    "                maxi = max(maxi,(n-mini))\n",
    "            else:\n",
    "                mini = min(mini,n)\n",
    "        return maxi"
   ]
  },
  {
   "cell_type": "markdown",
   "id": "d252f4c6",
   "metadata": {},
   "source": [
    "### 5. Valid Palindrome\n",
    "A phrase is a palindrome if, after converting all uppercase letters into lowercase letters and removing all non-alphanumeric characters, it reads the same forward and backward. Alphanumeric characters include letters and numbers.\n",
    "\n",
    "Given a string s, return true if it is a palindrome, or false otherwise."
   ]
  },
  {
   "cell_type": "code",
   "execution_count": 1,
   "id": "6ac4aa3b",
   "metadata": {},
   "outputs": [],
   "source": [
    "class Solution(object):\n",
    "    def isPalindrome(self, s):\n",
    "        \"\"\"\n",
    "        :type s: str\n",
    "        :rtype: bool\n",
    "        \"\"\"\n",
    "        l, r = 0, len(s)-1\n",
    "        while l < r:\n",
    "            while l < r and not s[l].isalnum():\n",
    "                l += 1\n",
    "            while l <r and not s[r].isalnum():\n",
    "                r -= 1\n",
    "            if s[l].lower() != s[r].lower():\n",
    "                return False\n",
    "            l +=1; r -= 1\n",
    "        return True"
   ]
  },
  {
   "cell_type": "markdown",
   "id": "c522ad4d",
   "metadata": {},
   "source": [
    "### 6. Invert Binary Tree\n",
    "Given the root of a binary tree, invert the tree, and return its root."
   ]
  },
  {
   "cell_type": "code",
   "execution_count": 2,
   "id": "eeb2ba90",
   "metadata": {},
   "outputs": [],
   "source": [
    "# Definition for a binary tree node.\n",
    "# class TreeNode(object):\n",
    "#     def __init__(self, val=0, left=None, right=None):\n",
    "#         self.val = val\n",
    "#         self.left = left\n",
    "#         self.right = right\n",
    "class Solution(object):\n",
    "    def invertTree(self, root):\n",
    "        \"\"\"\n",
    "        :type root: TreeNode\n",
    "        :rtype: TreeNode\n",
    "        \"\"\"\n",
    "        a = Solution()\n",
    "        \n",
    "        if not root:\n",
    "            return None\n",
    "        root.left = a.invertTree(root.left)\n",
    "        root.right = a.invertTree(root.right)\n",
    "        \n",
    "        temp = root.right\n",
    "        root.right = root.left\n",
    "        root.left = temp\n",
    "        \n",
    "        return root"
   ]
  },
  {
   "cell_type": "markdown",
   "id": "a680ded8",
   "metadata": {},
   "source": [
    "### 7. Valid Anagram\n",
    "Given two strings s and t, return true if t is an anagram of s, and false otherwise.\n",
    "\n",
    "An Anagram is a word or phrase formed by rearranging the letters of a different word or phrase, typically using all the original letters exactly once."
   ]
  },
  {
   "cell_type": "code",
   "execution_count": 3,
   "id": "84593530",
   "metadata": {},
   "outputs": [],
   "source": [
    "class Solution(object):\n",
    "    def isAnagram(self, s, t):\n",
    "        \"\"\"\n",
    "        :type s: str\n",
    "        :type t: str\n",
    "        :rtype: bool\n",
    "        \"\"\"\n",
    "        if len(s)!=len(t):\n",
    "            return False\n",
    "        \n",
    "        hashmap = {}\n",
    "        \n",
    "        for i in range(len(s)):\n",
    "            if s[i] not in hashmap:\n",
    "                hashmap[s[i]] = 1\n",
    "            else:\n",
    "                hashmap[s[i]] += 1\n",
    "            if t[i] not in hashmap:\n",
    "                hashmap[t[i]] = -1\n",
    "            else:\n",
    "                hashmap[t[i]] -= 1\n",
    "                \n",
    "        for n in hashmap.values():\n",
    "            if n != 0:\n",
    "                return False\n",
    "                \n",
    "        return True"
   ]
  },
  {
   "cell_type": "markdown",
   "id": "99b9928e",
   "metadata": {},
   "source": [
    "### 8. Binary Search\n",
    "Given an array of integers nums which is sorted in ascending order, and an integer target, write a function to search target in nums. If target exists, then return its index. Otherwise, return -1.\n",
    "\n",
    "You must write an algorithm with O(log n) runtime complexity."
   ]
  },
  {
   "cell_type": "code",
   "execution_count": 5,
   "id": "f409383c",
   "metadata": {},
   "outputs": [],
   "source": [
    "class Solution(object):\n",
    "    def search(self, nums, target):\n",
    "        \"\"\"\n",
    "        :type nums: List[int]\n",
    "        :type target: int\n",
    "        :rtype: int\n",
    "        \"\"\"\n",
    "        start, end = 0, len(nums)-1\n",
    "        while start <= end:\n",
    "            mid = int((start+end)/2)\n",
    "            if nums[mid] == target:\n",
    "                return mid\n",
    "            elif nums[mid]>target:\n",
    "                end = mid-1\n",
    "            else:\n",
    "                start = mid+1\n",
    "        return -1"
   ]
  },
  {
   "cell_type": "markdown",
   "id": "baac2ed9",
   "metadata": {},
   "source": [
    "### 9. Flood Fill\n",
    "An image is represented by an m x n integer grid image where image[i][j] represents the pixel value of the image.\n",
    "\n",
    "You are also given three integers sr, sc, and color. You should perform a flood fill on the image starting from the pixel image[sr][sc].\n",
    "\n",
    "To perform a flood fill, consider the starting pixel, plus any pixels connected 4-directionally to the starting pixel of the same color as the starting pixel, plus any pixels connected 4-directionally to those pixels (also with the same color), and so on. Replace the color of all of the aforementioned pixels with color.\n",
    "\n",
    "Return the modified image after performing the flood fill."
   ]
  },
  {
   "cell_type": "code",
   "execution_count": 6,
   "id": "6e0bc0b7",
   "metadata": {},
   "outputs": [],
   "source": [
    "class Solution(object):\n",
    "    def floodFill(self, image, sr, sc, color):\n",
    "        \"\"\"\n",
    "        :type image: List[List[int]]\n",
    "        :type sr: int\n",
    "        :type sc: int\n",
    "        :type color: int\n",
    "        :rtype: List[List[int]]\n",
    "        \"\"\"\n",
    "        visited = set()\n",
    "        col = image[sr][sc]\n",
    "        def fillthispixel(i,j):\n",
    "            if i >= len(image) or j>= len(image[0]) or i<0 or j<0:\n",
    "                return\n",
    "            elif (i,j) in visited:\n",
    "                return\n",
    "            else:\n",
    "                visited.add((i,j))\n",
    "                if image[i][j] != col:\n",
    "                    return\n",
    "                image[i][j] = color\n",
    "\n",
    "            fillthispixel(i+1,j)\n",
    "            fillthispixel(i-1,j)\n",
    "            fillthispixel(i,j+1)\n",
    "            fillthispixel(i,j-1)\n",
    "\n",
    "        fillthispixel(sr,sc)\n",
    "        return image"
   ]
  },
  {
   "cell_type": "markdown",
   "id": "a9afc830",
   "metadata": {},
   "source": [
    "### 10. Maximum Subarray\n",
    "Given an integer array nums, find the \n",
    "subarray\n",
    " with the largest sum, and return its sum."
   ]
  },
  {
   "cell_type": "code",
   "execution_count": 7,
   "id": "8d2b9d72",
   "metadata": {},
   "outputs": [],
   "source": [
    "class Solution(object):\n",
    "    def maxSubArray(self, nums):\n",
    "        \"\"\"\n",
    "        :type nums: List[int]\n",
    "        :rtype: int\n",
    "        \"\"\"\n",
    "        curr, maxi = 0,nums[0]\n",
    "        for n in nums:\n",
    "            curr = curr+n\n",
    "            maxi = max(maxi,curr)\n",
    "            if curr<0:\n",
    "                curr = 0\n",
    "        return maxi"
   ]
  },
  {
   "cell_type": "markdown",
   "id": "e52efb96",
   "metadata": {},
   "source": [
    "### 11. Lowest Common Ancestor of a Binary Tree\n",
    "Given a binary search tree (BST), find the lowest common ancestor (LCA) node of two given nodes in the BST.\n",
    "\n",
    "According to the definition of LCA on Wikipedia: “The lowest common ancestor is defined between two nodes p and q as the lowest node in T that has both p and q as descendants (where we allow a node to be a descendant of itself).”"
   ]
  },
  {
   "cell_type": "code",
   "execution_count": 8,
   "id": "294bf76e",
   "metadata": {},
   "outputs": [],
   "source": [
    "# Definition for a binary tree node.\n",
    "# class TreeNode(object):\n",
    "#     def __init__(self, x):\n",
    "#         self.val = x\n",
    "#         self.left = None\n",
    "#         self.right = None\n",
    "\n",
    "class Solution(object):\n",
    "    def lowestCommonAncestor(self, root, p, q):\n",
    "        \"\"\"\n",
    "        :type root: TreeNode\n",
    "        :type p: TreeNode\n",
    "        :type q: TreeNode\n",
    "        :rtype: TreeNode\n",
    "        \"\"\"\n",
    "        curr = root\n",
    "        while curr:\n",
    "            if p.val<curr.val and q.val<curr.val:\n",
    "                curr = curr.left\n",
    "            elif p.val>curr.val and q.val>curr.val:\n",
    "                curr = curr.right\n",
    "            else:\n",
    "                return curr"
   ]
  },
  {
   "cell_type": "markdown",
   "id": "91ef8846",
   "metadata": {},
   "source": [
    "### 12. Insert Interval\n",
    "You are given an array of non-overlapping intervals intervals where intervals[i] = [starti, endi] represent the start and the end of the ith interval and intervals is sorted in ascending order by starti. You are also given an interval newInterval = [start, end] that represents the start and end of another interval.\n",
    "\n",
    "Insert newInterval into intervals such that intervals is still sorted in ascending order by starti and intervals still does not have any overlapping intervals (merge overlapping intervals if necessary).\n",
    "\n",
    "Return intervals after the insertion."
   ]
  },
  {
   "cell_type": "code",
   "execution_count": 10,
   "id": "d918f3da",
   "metadata": {},
   "outputs": [],
   "source": [
    "class Solution(object):\n",
    "    def insert(self, intervals, newInterval):\n",
    "        \"\"\"\n",
    "        :type intervals: List[List[int]]\n",
    "        :type newInterval: List[int]\n",
    "        :rtype: List[List[int]]\n",
    "        \"\"\"\n",
    "        res = []\n",
    "        for i in range(len(intervals)):\n",
    "            if newInterval[1]<intervals[i][0]:\n",
    "                res.append(newInterval)\n",
    "                return res + intervals[i:]\n",
    "\n",
    "            elif newInterval[0]>intervals[i][1]:\n",
    "                res.append(intervals[i])\n",
    "\n",
    "            else:\n",
    "                newInterval = [min(newInterval[0],intervals[i][0]),max(newInterval[1],intervals[i][1])]\n",
    "        res.append(newInterval)\n",
    "        return res"
   ]
  },
  {
   "cell_type": "markdown",
   "id": "c77dc5b4",
   "metadata": {},
   "source": [
    "### 13. 01 Matrix\n",
    "Given an m x n binary matrix mat, return the distance of the nearest 0 for each cell.\n",
    "\n",
    "The distance between two adjacent cells is 1."
   ]
  },
  {
   "cell_type": "code",
   "execution_count": 11,
   "id": "32f7edb8",
   "metadata": {},
   "outputs": [],
   "source": [
    "class Solution(object):\n",
    "    def updateMatrix(self, mat):\n",
    "        \"\"\"\n",
    "        :type mat: List[List[int]]\n",
    "        :rtype: List[List[int]]\n",
    "        \"\"\"\n",
    "        visited = set()\n",
    "        matrix = mat\n",
    "        from collections import deque\n",
    "        q = deque()\n",
    "        for i in range(len(matrix)):\n",
    "            for j in range(len(matrix[0])):\n",
    "                if matrix[i][j] == 0:\n",
    "                    visited.add((i,j))\n",
    "                    q.append((i,j))\n",
    "        \n",
    "        while q:\n",
    "            x,y = q.popleft()\n",
    "            for dirr in [(1,0), (-1,0), (0,1), (0,-1)]:\n",
    "                newX, newY = x+dirr[0], y+dirr[1]\n",
    "                if newX >= 0 and newX <= len(matrix)-1 and newY >= 0 and newY <= len(matrix[0])-1 and (newX, newY) not in visited:\n",
    "                        matrix[newX][newY] = matrix[x][y] + 1\n",
    "                        visited.add((newX, newY))\n",
    "                        q.append((newX, newY))\n",
    "        return matrix"
   ]
  },
  {
   "cell_type": "markdown",
   "id": "abf50d90",
   "metadata": {},
   "source": [
    "### 14. K Closest Points to Origin\n",
    "Given an array of points where points[i] = [xi, yi] represents a point on the X-Y plane and an integer k, return the k closest points to the origin (0, 0).\n",
    "\n",
    "The distance between two points on the X-Y plane is the Euclidean distance (i.e., √(x1 - x2)2 + (y1 - y2)2).\n",
    "\n",
    "You may return the answer in any order. The answer is guaranteed to be unique (except for the order that it is in)."
   ]
  },
  {
   "cell_type": "code",
   "execution_count": 12,
   "id": "127ef671",
   "metadata": {},
   "outputs": [],
   "source": [
    "class Solution(object):\n",
    "    def kClosest(self, points, k):\n",
    "        \"\"\"\n",
    "        :type points: List[List[int]]\n",
    "        :type k: int\n",
    "        :rtype: List[List[int]]\n",
    "        \"\"\"\n",
    "        heap = []\n",
    "        for x, y in points:\n",
    "            d = -(x*x + y*y)\n",
    "            heappush(heap, (d, x, y))\n",
    "            if len(heap) > k:\n",
    "                heappop(heap)\n",
    "                        \n",
    "        return [[x, y] for _, x, y in heap]"
   ]
  },
  {
   "cell_type": "code",
   "execution_count": null,
   "id": "72dd258e",
   "metadata": {},
   "outputs": [],
   "source": []
  }
 ],
 "metadata": {
  "kernelspec": {
   "display_name": "Python 3 (ipykernel)",
   "language": "python",
   "name": "python3"
  },
  "language_info": {
   "codemirror_mode": {
    "name": "ipython",
    "version": 3
   },
   "file_extension": ".py",
   "mimetype": "text/x-python",
   "name": "python",
   "nbconvert_exporter": "python",
   "pygments_lexer": "ipython3",
   "version": "3.9.13"
  }
 },
 "nbformat": 4,
 "nbformat_minor": 5
}
