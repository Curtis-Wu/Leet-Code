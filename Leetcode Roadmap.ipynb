{
 "cells": [
  {
   "cell_type": "markdown",
   "id": "e32b9166",
   "metadata": {},
   "source": [
    "### 6. Maximum Product Subarray\n",
    "Given an integer array nums, find a \n",
    "subarray\n",
    " that has the largest product, and return the product.\n",
    "\n",
    "The test cases are generated so that the answer will fit in a 32-bit integer.\n",
    "\n",
    "\n",
    "Example 1:\n",
    "\n",
    "Input: nums = [2,3,-2,4]\n",
    "Output: 6\n",
    "Explanation: [2,3] has the largest product 6."
   ]
  },
  {
   "cell_type": "code",
   "execution_count": 1,
   "id": "7e68fc43",
   "metadata": {},
   "outputs": [],
   "source": [
    "class Solution(object):\n",
    "    def maxProduct(self, nums):\n",
    "        \"\"\"\n",
    "        :type nums: List[int]\n",
    "        :rtype: int\n",
    "        \"\"\"\n",
    "        max_mul = nums[0]\n",
    "        biggest = 0\n",
    "        mul = 1\n",
    "        \n",
    "        for i in range(len(nums)):\n",
    "            prefix, postfix = 1, 1\n",
    "            mul_prod = 1\n",
    "            flag = True\n",
    "            while nums[i] != 0:\n",
    "                mul_prod *= nums[i]\n",
    "                \n",
    "                if nums[i]<0:\n",
    "                    prefix *= nums[i]\n",
    "                    flag = False\n",
    "                if flag == True:\n",
    "                    prefix *= nums[i]\n",
    "\n",
    "                biggest = max(biggest,nums[i])\n",
    "                if nums[i]<0 and flag == False:\n",
    "                    end_index = i\n",
    "\n",
    "                i += 1\n",
    "                if i == len(nums):\n",
    "                    break\n",
    "            \n",
    "            if biggest == 0:\n",
    "                continue\n",
    "            elif mul_prod > 0:\n",
    "                max_mul = max(max_mul, mul_prod)\n",
    "            else:\n",
    "                if mul_prod == postfix or mul_prod == prefix:\n",
    "                    continue\n",
    "                else:\n",
    "                    for j in range(end_index,i):\n",
    "                        postfix *= nums[j]\n",
    "                    max_mul = max(max_mul, mul_prod/prefix, mul_prod/postfix)\n",
    "        if 0 in nums:\n",
    "            return max(int(max_mul),0)\n",
    "        else:\n",
    "            return int(max_mul)"
   ]
  },
  {
   "cell_type": "code",
   "execution_count": 232,
   "id": "e18b6cd6",
   "metadata": {},
   "outputs": [],
   "source": [
    "nums = [-2,0,-1]\n",
    "nums2 = [2,3,-2,4]\n",
    "nums3 = [-2]\n",
    "nums4 = [-3,-1,-1]"
   ]
  },
  {
   "cell_type": "code",
   "execution_count": 235,
   "id": "ddfd178c",
   "metadata": {},
   "outputs": [],
   "source": [
    "class Solution(object):\n",
    "    def maxProduct(self, nums):\n",
    "        \"\"\"\n",
    "        :type nums: List[int]\n",
    "        :rtype: int\n",
    "        \"\"\"\n",
    "        res = max(nums)\n",
    "        curMin, curMax = 1, 1\n",
    "        \n",
    "        for n in nums:\n",
    "            if n == 0:\n",
    "                curMin, curMax = 1,1\n",
    "                continue\n",
    "            tmp = curMax*n\n",
    "            curMax = max(n*curMax, n*curMin, n)\n",
    "            curMin = min(tmp,n*curMin,n)\n",
    "            res = max(res, curMax)\n",
    "        return res"
   ]
  },
  {
   "cell_type": "markdown",
   "id": "e08dcac1",
   "metadata": {},
   "source": [
    "# Topic: Arrays and Hashing"
   ]
  },
  {
   "cell_type": "markdown",
   "id": "6bf466fe",
   "metadata": {},
   "source": [
    "### 1. Contains Duplicate (easy)\n",
    "Given an integer array nums, return true if any value appears at least twice in the array, and return false if every element is distinct."
   ]
  },
  {
   "cell_type": "code",
   "execution_count": 1,
   "id": "6e202c99",
   "metadata": {},
   "outputs": [],
   "source": [
    "class Solution(object):\n",
    "    def containsDuplicate(self, nums):\n",
    "        \"\"\"\n",
    "        :type nums: List[int]\n",
    "        :rtype: bool\n",
    "        \"\"\"\n",
    "        my_set = set()\n",
    "        for item in nums:\n",
    "            my_set.add(item)\n",
    "            \n",
    "        if len(my_set)<len(nums):\n",
    "            return True\n",
    "        \n",
    "        return False"
   ]
  },
  {
   "cell_type": "markdown",
   "id": "eb51605c",
   "metadata": {},
   "source": [
    "### 2. Valid Anagram (easy)\n",
    "Given two strings s and t, return true if t is an anagram of s, and false otherwise.\n",
    "\n",
    "An Anagram is a word or phrase formed by rearranging the letters of a different word or phrase, typically using all the original letters exactly once."
   ]
  },
  {
   "cell_type": "code",
   "execution_count": 273,
   "id": "78b76025",
   "metadata": {},
   "outputs": [],
   "source": [
    "class Solution(object):\n",
    "    def isAnagram(self, s, t):\n",
    "        \"\"\"\n",
    "        :type s: str\n",
    "        :type t: str\n",
    "        :rtype: bool\n",
    "        \"\"\"\n",
    "        hashmap_s = {}\n",
    "        hashmap_t = {}\n",
    "        \n",
    "        if len(s)!=len(t):\n",
    "            return False\n",
    "        \n",
    "        for i in range(len(s)):\n",
    "            if s[i] not in hashmap_s:\n",
    "                hashmap_s[s[i]] = 1\n",
    "            else:\n",
    "                hashmap_s[s[i]] += 1\n",
    "            if t[i] not in hashmap_t:\n",
    "                hashmap_t[t[i]] = 1\n",
    "            else:\n",
    "                hashmap_t[t[i]] += 1\n",
    "                \n",
    "        if hashmap_t == hashmap_s:\n",
    "            return True\n",
    "        \n",
    "        return False"
   ]
  },
  {
   "cell_type": "markdown",
   "id": "109ce806",
   "metadata": {},
   "source": [
    "### 3. Two Sum (easy)\n",
    "Given an array of integers nums and an integer target, return indices of the two numbers such that they add up to target.\n",
    "\n",
    "You may assume that each input would have exactly one solution, and you may not use the same element twice.\n",
    "\n",
    "You can return the answer in any order."
   ]
  },
  {
   "cell_type": "code",
   "execution_count": 3,
   "id": "d8008490",
   "metadata": {},
   "outputs": [],
   "source": [
    "class Solution():\n",
    "    def twoSum(self, nums, target) -> list[int]:\n",
    "        prevMap = {}\n",
    "        \n",
    "        for i, n in enumerate(nums):\n",
    "            diff = target - n\n",
    "            if diff in prevMap:\n",
    "                return [prevMap[diff],i]\n",
    "            prevMap[n] = i\n",
    "        return"
   ]
  },
  {
   "cell_type": "markdown",
   "id": "a6f9438a",
   "metadata": {},
   "source": [
    "### 4. Group Anagrams (medium)\n",
    "Given an array of strings strs, group the anagrams together. You can return the answer in any order.\n",
    "\n",
    "An Anagram is a word or phrase formed by rearranging the letters of a different word or phrase, typically using all the original letters exactly once.\n",
    "\n",
    "Input: strs = [\"eat\",\"tea\",\"tan\",\"ate\",\"nat\",\"bat\"]<br>\n",
    "Output: [[\"bat\"],[\"nat\",\"tan\"],[\"ate\",\"eat\",\"tea\"]]"
   ]
  },
  {
   "cell_type": "code",
   "execution_count": 1,
   "id": "f6fc2686",
   "metadata": {},
   "outputs": [],
   "source": [
    "class Solution(object):\n",
    "    def groupAnagrams(self, strs):\n",
    "        \"\"\"\n",
    "        :type strs: List[str]\n",
    "        :rtype: List[List[str]]\n",
    "        \"\"\"\n",
    "        strs_table = {}\n",
    "        for string in strs:\n",
    "            key = [0] * 26\n",
    "\n",
    "            for char in string:\n",
    "                    key[ord(char)-ord('a')] += 1 \n",
    "\n",
    "            strs_key = tuple(key)\n",
    "\n",
    "            if strs_key not in strs_table:\n",
    "                    strs_table[strs_key] = []\n",
    "\n",
    "            strs_table[strs_key].append(string)\n",
    "\n",
    "        return list(strs_table.values())"
   ]
  },
  {
   "cell_type": "markdown",
   "id": "316d3fed",
   "metadata": {},
   "source": [
    "### 5. Top K Frequent Elements (medium)\n",
    "Given an integer array nums and an integer k, return the k most frequent elements. You may return the answer in any order."
   ]
  },
  {
   "cell_type": "code",
   "execution_count": 2,
   "id": "5968c0d0",
   "metadata": {},
   "outputs": [],
   "source": [
    "class Solution(object):\n",
    "    def topKFrequent(self, nums, k):\n",
    "        \"\"\"\n",
    "        :type nums: List[int]\n",
    "        :type k: int\n",
    "        :rtype: List[int]\n",
    "        \"\"\"\n",
    "        num_freq_map = {}\n",
    "\n",
    "        for num in nums:\n",
    "            num_freq_map[num] += 1\n",
    "        \n",
    "        sorted_nums_per_freq = [key for key, val in sorted(num_freq_map.items(), key = lambda item: -item[1])]\n",
    "\n",
    "        return sorted_nums_per_freq[ : k]"
   ]
  },
  {
   "cell_type": "code",
   "execution_count": 5,
   "id": "caf129d4",
   "metadata": {},
   "outputs": [
    {
     "data": {
      "text/plain": [
       "[1, 4, 9, 16, 25]"
      ]
     },
     "execution_count": 5,
     "metadata": {},
     "output_type": "execute_result"
    }
   ],
   "source": [
    "my_arr = [1,2,3,4,5]\n",
    "\n",
    "my_arr2 = map(lambda x:x**2,my_arr)\n",
    "\n",
    "list(my_arr2)\n",
    "\n",
    "#print(list(my_arr2))"
   ]
  },
  {
   "cell_type": "markdown",
   "id": "333721b6",
   "metadata": {},
   "source": [
    "### 6. Product of Array Except Self (medium)\n",
    "Given an integer array nums, return an array answer such that answer[i] is equal to the product of all the elements of nums except nums[i].\n",
    "\n",
    "The product of any prefix or suffix of nums is guaranteed to fit in a 32-bit integer.\n",
    "\n",
    "You must write an algorithm that runs in O(n) time and without using the division operation.\n",
    "\n",
    "Example 1:\n",
    "\n",
    "Input: nums = [1,2,3,4]\n",
    "Output: [24,12,8,6]\n",
    "\n",
    "Example 2:\n",
    "\n",
    "Input: nums = [-1,1,0,-3,3]\n",
    "Output: [0,0,9,0,0]"
   ]
  },
  {
   "cell_type": "code",
   "execution_count": 40,
   "id": "10d3079d",
   "metadata": {},
   "outputs": [],
   "source": [
    "class Solution(object):\n",
    "    def productExceptSelf(self, nums):\n",
    "        \"\"\"\n",
    "        :type nums: List[int]\n",
    "        :rtype: List[int]\n",
    "        \"\"\"\n",
    "        prefix,postfix = [1],[1]\n",
    "        num_len = len(nums)\n",
    "        res = []\n",
    "\n",
    "        for i in range(num_len):\n",
    "            prefix.append(nums[i]*prefix[-1])\n",
    "            postfix.insert(0,nums[num_len-i-1]*postfix[0])\n",
    "        \n",
    "        for i in range(num_len):\n",
    "            res.append(prefix[i]*postfix[i+1])\n",
    "        return res"
   ]
  },
  {
   "cell_type": "code",
   "execution_count": 17,
   "id": "1ad849a0",
   "metadata": {},
   "outputs": [
    {
     "name": "stdout",
     "output_type": "stream",
     "text": [
      "[24, 12, 8, 6]\n",
      "[0, 0, 0, 0, 0, 120]\n"
     ]
    }
   ],
   "source": [
    "my_arr = [1,2,3,4]\n",
    "my_arr2 = [1,2,3,4,5,0]\n",
    "a = Solution()\n",
    "print(a.productExceptSelf(my_arr))\n",
    "print(a.productExceptSelf(my_arr2))"
   ]
  },
  {
   "cell_type": "code",
   "execution_count": 41,
   "id": "3f7edfd1",
   "metadata": {},
   "outputs": [],
   "source": [
    "# Answer:\n",
    "class Solution:\n",
    "    def productExceptSelf(self, nums):\n",
    "        res = []\n",
    "        \n",
    "        acc = 1\n",
    "        for n in nums:\n",
    "            res.append(acc)\n",
    "            acc *= n\n",
    "\n",
    "        acc = 1\n",
    "        for i in reversed(range(len(nums))):\n",
    "            res[i] *= acc\n",
    "            acc *= nums[i]\n",
    "            \n",
    "        return res"
   ]
  },
  {
   "cell_type": "markdown",
   "id": "bd289058",
   "metadata": {},
   "source": [
    "### 7. Valid Sudoku (medium)\n",
    "Determine if a 9 x 9 Sudoku board is valid. Only the filled cells need to be validated according to the following rules:\n",
    "\n",
    "Each row must contain the digits 1-9 without repetition.\n",
    "Each column must contain the digits 1-9 without repetition.\n",
    "Each of the nine 3 x 3 sub-boxes of the grid must contain the digits 1-9 without repetition.\n",
    "Note:\n",
    "\n",
    "A Sudoku board (partially filled) could be valid but is not necessarily solvable.\n",
    "Only the filled cells need to be validated according to the mentioned rules.\n",
    "\n",
    "Input: board = <br>\n",
    "[[\"5\",\"3\",\".\",\".\",\"7\",\".\",\".\",\".\",\".\"]<br>\n",
    ",[\"6\",\".\",\".\",\"1\",\"9\",\"5\",\".\",\".\",\".\"]<br>\n",
    ",[\".\",\"9\",\"8\",\".\",\".\",\".\",\".\",\"6\",\".\"]<br>\n",
    ",[\"8\",\".\",\".\",\".\",\"6\",\".\",\".\",\".\",\"3\"]<br>\n",
    ",[\"4\",\".\",\".\",\"8\",\".\",\"3\",\".\",\".\",\"1\"]<br>\n",
    ",[\"7\",\".\",\".\",\".\",\"2\",\".\",\".\",\".\",\"6\"]<br>\n",
    ",[\".\",\"6\",\".\",\".\",\".\",\".\",\"2\",\"8\",\".\"]<br>\n",
    ",[\".\",\".\",\".\",\"4\",\"1\",\"9\",\".\",\".\",\"5\"]<br>\n",
    ",[\".\",\".\",\".\",\".\",\"8\",\".\",\".\",\"7\",\"9\"]]<br>\n",
    "Output: true<br>\n",
    "Example 2:<br>\n",
    "\n",
    "Input: board = <br>\n",
    "[[\"8\",\"3\",\".\",\".\",\"7\",\".\",\".\",\".\",\".\"]<br>\n",
    ",[\"6\",\".\",\".\",\"1\",\"9\",\"5\",\".\",\".\",\".\"]<br>\n",
    ",[\".\",\"9\",\"8\",\".\",\".\",\".\",\".\",\"6\",\".\"]<br>\n",
    ",[\"8\",\".\",\".\",\".\",\"6\",\".\",\".\",\".\",\"3\"]<br>\n",
    ",[\"4\",\".\",\".\",\"8\",\".\",\"3\",\".\",\".\",\"1\"]<br>\n",
    ",[\"7\",\".\",\".\",\".\",\"2\",\".\",\".\",\".\",\"6\"]<br>\n",
    ",[\".\",\"6\",\".\",\".\",\".\",\".\",\"2\",\"8\",\".\"]<br>\n",
    ",[\".\",\".\",\".\",\"4\",\"1\",\"9\",\".\",\".\",\"5\"]<br>\n",
    ",[\".\",\".\",\".\",\".\",\"8\",\".\",\".\",\"7\",\"9\"]]<br>\n",
    "\n",
    "Output: false Explanation: \n",
    "\n",
    "Same as Example 1, except with the 5 in the top left corner being modified to 8. Since there are two 8's in the top left 3x3 sub-box, it is invalid."
   ]
  },
  {
   "cell_type": "code",
   "execution_count": 39,
   "id": "c8bb5833",
   "metadata": {},
   "outputs": [],
   "source": [
    "class Solution(object):\n",
    "    def isValidSudoku(self, board):\n",
    "        \"\"\"\n",
    "        :type board: List[List[str]]\n",
    "        :rtype: bool\n",
    "        \"\"\"\n",
    "        columns = [[] for _ in range(9)]\n",
    "        rows = [[] for _ in range(9)]\n",
    "\n",
    "        for i in range(0,7,3):\n",
    "            for j in range(0,7,3):\n",
    "                block = set()\n",
    "\n",
    "                for x in range(3):\n",
    "                    for y in range(3):\n",
    "                        cell = board[i+x][j+y]\n",
    "                        if cell=='.':\n",
    "                            continue\n",
    "                        if cell in block or cell in rows[i+x] or cell in columns[j+y]:\n",
    "                            return False\n",
    "                        block.add(cell);rows[i+x].append(cell);columns[j+y].append(cell)\n",
    "\n",
    "        return True"
   ]
  },
  {
   "cell_type": "markdown",
   "id": "7facc164",
   "metadata": {},
   "source": [
    "Answers: use dictionary to store the columns and rows instead of list of lists"
   ]
  },
  {
   "cell_type": "markdown",
   "id": "ed988594",
   "metadata": {},
   "source": [
    "### 8. Longest Consecutive Sequence (medium)\n",
    "Given an unsorted array of integers nums, return the length of the longest consecutive elements sequence.\n",
    "\n",
    "You must write an algorithm that runs in O(n) time.\n",
    "\n",
    " \n",
    "\n",
    "Example 1:\n",
    "\n",
    "Input: nums = [100,4,200,1,3,2]\n",
    "Output: 4\n",
    "Explanation: The longest consecutive elements sequence is [1, 2, 3, 4]. Therefore its length is 4.\n",
    "Example 2:\n",
    "\n",
    "Input: nums = [0,3,7,2,5,8,4,6,0,1]\n",
    "Output: 9"
   ]
  },
  {
   "cell_type": "code",
   "execution_count": 43,
   "id": "f236acad",
   "metadata": {},
   "outputs": [],
   "source": [
    "# Answer\n",
    "class Solution(object):\n",
    "    def longestConsecutive(self, nums):\n",
    "        \"\"\"\n",
    "        :type nums: List[int]\n",
    "        :rtype: int\n",
    "        \"\"\"\n",
    "        numSet = set(nums)\n",
    "        longest = 0\n",
    "\n",
    "        for n in nums:\n",
    "            if (n-1) not in numSet:\n",
    "                length = 0\n",
    "                while (n+length) in numSet:\n",
    "                    length += 1\n",
    "                longest = max(length,longest)\n",
    "        return longest\n",
    "                "
   ]
  },
  {
   "cell_type": "markdown",
   "id": "dfbff499",
   "metadata": {},
   "source": [
    "# Topic: Two Pointers"
   ]
  },
  {
   "cell_type": "markdown",
   "id": "33eaa353",
   "metadata": {},
   "source": [
    "### 1. Valid Palindrome (easy)\n",
    "\n",
    "A phrase is a palindrome if, after converting all uppercase letters into lowercase letters and removing all non-alphanumeric characters, it reads the same forward and backward. Alphanumeric characters include letters and numbers.\n",
    "\n",
    "Given a string s, return true if it is a palindrome, or false otherwise."
   ]
  },
  {
   "cell_type": "code",
   "execution_count": 304,
   "id": "0c493f17",
   "metadata": {},
   "outputs": [],
   "source": [
    "class Solution(object):\n",
    "    def isPalindrome(self, s):\n",
    "        \"\"\"\n",
    "        :type s: str\n",
    "        :rtype: bool\n",
    "        \"\"\"\n",
    "        s1 = ''.join(filter(str.isalnum, s.lower()))\n",
    "        \n",
    "        return s1 == s1[::-1]"
   ]
  },
  {
   "cell_type": "code",
   "execution_count": 305,
   "id": "36b5eb1e",
   "metadata": {},
   "outputs": [],
   "source": [
    "s_input = \"A man, a plan, a canal: Panama\"\n",
    "s_input_2 = \"race a car\""
   ]
  },
  {
   "cell_type": "code",
   "execution_count": 306,
   "id": "cd499259",
   "metadata": {},
   "outputs": [
    {
     "name": "stdout",
     "output_type": "stream",
     "text": [
      "True\n"
     ]
    }
   ],
   "source": [
    "a = Solution()\n",
    "print(a.isPalindrome(s_input))"
   ]
  },
  {
   "cell_type": "markdown",
   "id": "cbbe018f",
   "metadata": {},
   "source": [
    "### 2. Two Sum II - Input Array Is Sorted (medium)\n",
    "Given a 1-indexed array of integers numbers that is already sorted in non-decreasing order, find two numbers such that they add up to a specific target number. Let these two numbers be numbers[index1] and numbers[index2] where 1 <= index1 < index2 < numbers.length.\n",
    "\n",
    "Return the indices of the two numbers, index1 and index2, added by one as an integer array [index1, index2] of length 2.\n",
    "\n",
    "The tests are generated such that there is exactly one solution. You may not use the same element twice.\n",
    "\n",
    "Your solution must use only constant extra space.\n",
    "\n",
    " \n",
    "\n",
    "Example 1:\n",
    "\n",
    "Input: numbers = [2,7,11,15], target = 9\n",
    "Output: [1,2]\n",
    "Explanation: The sum of 2 and 7 is 9. Therefore, index1 = 1, index2 = 2. We return [1, 2].\n",
    "Example 2:\n",
    "\n",
    "Input: numbers = [2,3,4], target = 6\n",
    "Output: [1,3]\n",
    "Explanation: The sum of 2 and 4 is 6. Therefore index1 = 1, index2 = 3. We return [1, 3].\n",
    "Example 3:\n",
    "\n",
    "Input: numbers = [-1,0], target = -1\n",
    "Output: [1,2]\n",
    "Explanation: The sum of -1 and 0 is -1. Therefore index1 = 1, index2 = 2. We return [1, 2]."
   ]
  },
  {
   "cell_type": "code",
   "execution_count": 44,
   "id": "b8e070f2",
   "metadata": {},
   "outputs": [],
   "source": [
    "class Solution(object):\n",
    "    def twoSum(self, numbers, target):\n",
    "        \"\"\"\n",
    "        :type numbers: List[int]\n",
    "        :type target: int\n",
    "        :rtype: List[int]\n",
    "        \"\"\"\n",
    "        left,right = 0,1\n",
    "        while left < len(numbers) and right < len(numbers):\n",
    "            sum = numbers[left] + numbers[right]\n",
    "            if sum == target:\n",
    "                return [left+1,right+1]\n",
    "            elif sum > target:\n",
    "                left += 1\n",
    "                right = left + 1\n",
    "            elif numbers[right]<target-numbers[left]:\n",
    "                if right == len(numbers) - 1:\n",
    "                    left += 1\n",
    "                    right = left + 1\n",
    "                else:\n",
    "                    right += 1\n",
    "# Time Limit exceeded"
   ]
  },
  {
   "cell_type": "code",
   "execution_count": 46,
   "id": "0c1f9f0e",
   "metadata": {},
   "outputs": [],
   "source": [
    "# Answer\n",
    "class Solution(object):\n",
    "    def twoSum(self, numbers, target):\n",
    "        \"\"\"\n",
    "        :type numbers: List[int]\n",
    "        :type target: int\n",
    "        :rtype: List[int]\n",
    "        \"\"\"\n",
    "        left,right = 0, len(numbers)-1\n",
    "        while left < right:\n",
    "            s = numbers[left]+numbers[right]\n",
    "            if s == target:\n",
    "                return [left+1,right+1]\n",
    "            elif s < target:\n",
    "                left += 1\n",
    "            else:\n",
    "                right -= 1"
   ]
  },
  {
   "cell_type": "markdown",
   "id": "81228767",
   "metadata": {},
   "source": [
    "### 3. 3Sum (medium)\n",
    "Given an integer array nums, return all the triplets [nums[i], nums[j], nums[k]] such that i != j, i != k, and j != k, and nums[i] + nums[j] + nums[k] == 0.\n",
    "\n",
    "Notice that the solution set must not contain duplicate triplets.\n",
    "\n",
    " \n",
    "\n",
    "Example 1:\n",
    "\n",
    "Input: nums = [-1,0,1,2,-1,-4]<br>\n",
    "Output: [[-1,-1,2],[-1,0,1]]<br>\n",
    "Explanation: <br>\n",
    "nums[0] + nums[1] + nums[2] = (-1) + 0 + 1 = 0.<br>\n",
    "nums[1] + nums[2] + nums[4] = 0 + 1 + (-1) = 0.<br>\n",
    "nums[0] + nums[3] + nums[4] = (-1) + 2 + (-1) = 0.<br>\n",
    "The distinct triplets are [-1,0,1] and [-1,-1,2].<br>\n",
    "Notice that the order of the output and the order of the triplets does not matter.<br>\n",
    "\n",
    "Example 2:\n",
    "\n",
    "Input: nums = [0,1,1]\n",
    "Output: []\n",
    "Explanation: The only possible triplet does not sum up to 0.\n",
    "\n",
    "\n",
    "Example 3:\n",
    "\n",
    "Input: nums = [0,0,0]\n",
    "Output: [[0,0,0]]\n",
    "Explanation: The only possible triplet sums up to 0."
   ]
  },
  {
   "cell_type": "code",
   "execution_count": 1,
   "id": "dcc0981a",
   "metadata": {},
   "outputs": [],
   "source": [
    "# Answer\n",
    "class Solution(object):\n",
    "    def threeSum(self, nums):\n",
    "        \"\"\"\n",
    "        :type nums: List[int]\n",
    "        :rtype: List[List[int]]\n",
    "        \"\"\"\n",
    "        res = []\n",
    "        nums.sort()\n",
    "        for i,n in enumerate(nums):\n",
    "            if i > 0 and n == nums[i-1]:\n",
    "                continue\n",
    "\n",
    "            l,r = i+1, len(nums)-1\n",
    "            while l<r:\n",
    "                threeSum = n + nums[l] + nums[r]\n",
    "                if threeSum > 0:\n",
    "                    r -= 1\n",
    "                elif threeSum < 0:\n",
    "                    l += 1\n",
    "                else:\n",
    "                    res.append([n,nums[l],nums[r]])\n",
    "                    l += 1\n",
    "                    while nums[l] == nums[l-1] and l < r:\n",
    "                        l += 1\n",
    "                    r -= 1\n",
    "        return res"
   ]
  },
  {
   "cell_type": "markdown",
   "id": "e970793e",
   "metadata": {},
   "source": [
    "### 4. Container With Most Water (medium)\n",
    "You are given an integer array height of length n. There are n vertical lines drawn such that the two endpoints of the ith line are (i, 0) and (i, height[i]).\n",
    "\n",
    "Find two lines that together with the x-axis form a container, such that the container contains the most water.\n",
    "\n",
    "Return the maximum amount of water a container can store.\n",
    "\n",
    "Notice that you may not slant the container.\n",
    "\n",
    "Input: height = [1,8,6,2,5,4,8,3,7]\n",
    "Output: 49\n",
    "Explanation: The above vertical lines are represented by array [1,8,6,2,5,4,8,3,7]. In this case, the max area of water (blue section) the container can contain is 49.\n",
    "Example 2:\n",
    "\n",
    "Input: height = [1,1]\n",
    "Output: 1"
   ]
  },
  {
   "cell_type": "code",
   "execution_count": 2,
   "id": "1086fe90",
   "metadata": {},
   "outputs": [],
   "source": [
    "# Answer\n",
    "class Solution(object):\n",
    "    def maxArea(self, height):\n",
    "        \"\"\"\n",
    "        :type height: List[int]\n",
    "        :rtype: int\n",
    "        \"\"\"\n",
    "        maxarea = 0\n",
    "        l,r = 0, len(height)-1\n",
    "        \n",
    "        while l < r:\n",
    "            area = (r-l)*min(height[l],height[r])\n",
    "            maxarea = max(maxarea,area)\n",
    "            if height[l] < height[r]:\n",
    "                l += 1\n",
    "            else:\n",
    "                r -= 1\n",
    "        return maxarea"
   ]
  },
  {
   "cell_type": "markdown",
   "id": "f930d2d0",
   "metadata": {},
   "source": [
    "# Topic: Stack"
   ]
  },
  {
   "cell_type": "markdown",
   "id": "df2a8488",
   "metadata": {},
   "source": [
    "### 1. Valid Parentheses (Easy)\n",
    "Given a string s containing just the characters '(', ')', '{', '}', '[' and ']', determine if the input string is valid.\n",
    "\n",
    "An input string is valid if:\n",
    "\n",
    "Open brackets must be closed by the same type of brackets.\n",
    "Open brackets must be closed in the correct order.\n",
    "Every close bracket has a corresponding open bracket of the same type."
   ]
  },
  {
   "cell_type": "code",
   "execution_count": 59,
   "id": "5901c1b1",
   "metadata": {},
   "outputs": [],
   "source": [
    "class Solution(object):\n",
    "    def isValid(self, s):\n",
    "        \"\"\"\n",
    "        :type s: str\n",
    "        :rtype: bool\n",
    "        \"\"\"\n",
    "        my_corr = {\"(\":\")\",\"[\":\"]\",\"{\":\"}\",'-':'-'}\n",
    "        arr = ['-']\n",
    "        for i in range(len(s)):\n",
    "            if s[i] in my_corr.keys():\n",
    "                arr.append(s[i])\n",
    "\n",
    "            else: \n",
    "                if my_corr[arr[-1]] != s[i]:\n",
    "                    return False\n",
    "                else:\n",
    "                    del arr[-1]\n",
    "        return arr == ['-']"
   ]
  },
  {
   "cell_type": "code",
   "execution_count": 62,
   "id": "e261b1a0",
   "metadata": {},
   "outputs": [],
   "source": [
    "s1 = \"()[]{}\"\n",
    "s2 = \"(]\"\n",
    "s3 = '['"
   ]
  },
  {
   "cell_type": "code",
   "execution_count": 63,
   "id": "b93803bb",
   "metadata": {},
   "outputs": [
    {
     "name": "stdout",
     "output_type": "stream",
     "text": [
      "False\n"
     ]
    }
   ],
   "source": [
    "a = Solution()\n",
    "print(a.isValid(s3))"
   ]
  },
  {
   "cell_type": "markdown",
   "id": "b306c88d",
   "metadata": {},
   "source": [
    "### 2. Min Stack (Medium)\n",
    "Design a stack that supports push, pop, top, and retrieving the minimum element in constant time.\n",
    "\n",
    "Implement the MinStack class:\n",
    "\n",
    "MinStack() initializes the stack object.\n",
    "void push(int val) pushes the element val onto the stack.\n",
    "void pop() removes the element on the top of the stack.\n",
    "int top() gets the top element of the stack.\n",
    "int getMin() retrieves the minimum element in the stack.\n",
    "You must implement a solution with O(1) time complexity for each function."
   ]
  },
  {
   "cell_type": "code",
   "execution_count": 1,
   "id": "ad6da944",
   "metadata": {},
   "outputs": [],
   "source": [
    "# Answer\n",
    "class MinStack(object):\n",
    "    def __init__(self):\n",
    "        self.A = []\n",
    "        self.M = []\n",
    "\n",
    "    def push(self, x):\n",
    "        self.A.append(x)\n",
    "        self.M.append( x if not self.M else min(x, self.M[-1]))\n",
    "\n",
    "    def pop(self):\n",
    "        self.A.pop()\n",
    "        self.M.pop()\n",
    "\n",
    "    def top(self):\n",
    "        return self.A[-1]\n",
    "    \n",
    "    def getMin(self):\n",
    "        return self.M[-1]"
   ]
  },
  {
   "cell_type": "markdown",
   "id": "fa2ceeaf",
   "metadata": {},
   "source": [
    "### 3. Evaluate Reverse Polish Notation (Medium)\n",
    "You are given an array of strings tokens that represents an arithmetic expression in a Reverse Polish Notation.\n",
    "\n",
    "Evaluate the expression. Return an integer that represents the value of the expression.\n",
    "\n",
    "Note that:\n",
    "\n",
    "The valid operators are '+', '-', '*', and '/'.\n",
    "Each operand may be an integer or another expression.\n",
    "The division between two integers always truncates toward zero.\n",
    "There will not be any division by zero.\n",
    "The input represents a valid arithmetic expression in a reverse polish notation.\n",
    "The answer and all the intermediate calculations can be represented in a 32-bit integer."
   ]
  },
  {
   "cell_type": "code",
   "execution_count": 1,
   "id": "4ff4e79b",
   "metadata": {},
   "outputs": [],
   "source": [
    "class Solution(object):\n",
    "    def evalRPN(self, tokens):\n",
    "        \"\"\"\n",
    "        :type tokens: List[str]\n",
    "        :rtype: int\n",
    "        \"\"\"\n",
    "        stack = []\n",
    "        for c in tokens:\n",
    "            if c == \"+\":\n",
    "                stack.append(stack.pop() + stack.pop())\n",
    "            elif c == \"-\":\n",
    "                a,b = stack.pop(),stack.pop()\n",
    "                stack.append(b-a)\n",
    "            elif c == \"*\":\n",
    "                stack.append(stack.pop() * stack.pop())\n",
    "            elif c == \"/\":\n",
    "                a,b = stack.pop(),stack.pop()\n",
    "                stack.append(int(float(b)/ a))\n",
    "            else:\n",
    "                stack.append(int(c))\n",
    "\n",
    "        return stack[0]\n"
   ]
  },
  {
   "cell_type": "markdown",
   "id": "681c1dd4",
   "metadata": {},
   "source": [
    "### 4. Generate Parentheses (Medium)\n",
    "Given n pairs of parentheses, write a function to generate all combinations of well-formed parentheses."
   ]
  },
  {
   "cell_type": "code",
   "execution_count": 2,
   "id": "5922e357",
   "metadata": {},
   "outputs": [],
   "source": [
    "# Answer\n",
    "class Solution(object):\n",
    "    def generateParenthesis(self, n):\n",
    "        \"\"\"\n",
    "        :type n: int\n",
    "        :rtype: List[str]\n",
    "        \"\"\"\n",
    "        res = []\n",
    "        \n",
    "        def dfs(left,right,s):\n",
    "            if len(s) == 2*n:\n",
    "                res.append(s)\n",
    "                return\n",
    "            \n",
    "            if left < n:\n",
    "                dfs(left+1,right,s+'(')\n",
    "            if left > right:\n",
    "                dfs(left,right+1,s+')')\n",
    "\n",
    "        dfs(0,0,'')\n",
    "        return res"
   ]
  },
  {
   "cell_type": "markdown",
   "id": "9831cd95",
   "metadata": {},
   "source": [
    "### 5. Daily Temperatures (Medium)\n",
    "Given an array of integers temperatures represents the daily temperatures, return an array answer such that answer[i] is the number of days you have to wait after the ith day to get a warmer temperature. If there is no future day for which this is possible, keep answer[i] == 0 instead."
   ]
  },
  {
   "cell_type": "code",
   "execution_count": 4,
   "id": "158e508f",
   "metadata": {},
   "outputs": [],
   "source": [
    "# Answer\n",
    "class Solution(object):\n",
    "    def dailyTemperatures(self, temperatures):\n",
    "        \"\"\"\n",
    "        :type temperatures: List[int]\n",
    "        :rtype: List[int]\n",
    "        \"\"\"\n",
    "        stack = []\n",
    "        res = [0]*len(temperatures)\n",
    "\n",
    "        for i,t in enumerate(temperatures):\n",
    "            while stack and t > temperatures[stack[-1]]:\n",
    "                last = stack.pop()\n",
    "                res[last] = i-last\n",
    "            stack.append(i)\n",
    "\n",
    "        return res"
   ]
  },
  {
   "cell_type": "markdown",
   "id": "21445035",
   "metadata": {},
   "source": [
    "### 6. Car Fleet\n",
    "There are n cars going to the same destination along a one-lane road. The destination is target miles away.\n",
    "\n",
    "You are given two integer array position and speed, both of length n, where position[i] is the position of the ith car and speed[i] is the speed of the ith car (in miles per hour).\n",
    "\n",
    "A car can never pass another car ahead of it, but it can catch up to it and drive bumper to bumper at the same speed. The faster car will slow down to match the slower car's speed. The distance between these two cars is ignored (i.e., they are assumed to have the same position).\n",
    "\n",
    "A car fleet is some non-empty set of cars driving at the same position and same speed. Note that a single car is also a car fleet.\n",
    "\n",
    "If a car catches up to a car fleet right at the destination point, it will still be considered as one car fleet.\n",
    "\n",
    "Return the number of car fleets that will arrive at the destination."
   ]
  },
  {
   "cell_type": "code",
   "execution_count": null,
   "id": "33655bc3",
   "metadata": {},
   "outputs": [],
   "source": []
  },
  {
   "cell_type": "markdown",
   "id": "03d787c5",
   "metadata": {},
   "source": [
    "# Topic: Binary Search"
   ]
  },
  {
   "cell_type": "markdown",
   "id": "5830c930",
   "metadata": {},
   "source": [
    "### 1. Binary Search (Easy)\n",
    "Given an array of integers nums which is sorted in ascending order, and an integer target, write a function to search target in nums. If target exists, then return its index. Otherwise, return -1.\n",
    "\n",
    "You must write an algorithm with O(log n) runtime complexity."
   ]
  },
  {
   "cell_type": "code",
   "execution_count": 75,
   "id": "c1c67171",
   "metadata": {},
   "outputs": [],
   "source": [
    "class Solution(object):\n",
    "    def search(self, nums, target):\n",
    "        \"\"\"\n",
    "        :type nums: List[int]\n",
    "        :type target: int\n",
    "        :rtype: int\n",
    "        \"\"\"\n",
    "        start_index = 0\n",
    "        end_index = len(nums)-1\n",
    "        while start_index <= end_index:\n",
    "            search_index = int((start_index+end_index)/2)\n",
    "            if nums[search_index] == target:\n",
    "                return search_index\n",
    "            elif nums[search_index] < target:\n",
    "                start_index = search_index + 1\n",
    "            elif nums[search_index] > target:\n",
    "                end_index = search_index - 1\n",
    "        return -1"
   ]
  },
  {
   "cell_type": "code",
   "execution_count": 80,
   "id": "75870086",
   "metadata": {},
   "outputs": [],
   "source": [
    "nums = [1,1,2,3,15,19,25]\n",
    "nums2 = [0,1]"
   ]
  },
  {
   "cell_type": "code",
   "execution_count": 81,
   "id": "beb35e0c",
   "metadata": {},
   "outputs": [
    {
     "name": "stdout",
     "output_type": "stream",
     "text": [
      "1\n"
     ]
    }
   ],
   "source": [
    "a= Solution()\n",
    "print(a.search(nums2,1))"
   ]
  },
  {
   "cell_type": "markdown",
   "id": "861b68a4",
   "metadata": {},
   "source": [
    "### 2. Search a 2D Matrix (Medium)\n",
    "You are given an m x n integer matrix matrix with the following two properties:\n",
    "\n",
    "Each row is sorted in non-decreasing order.\n",
    "The first integer of each row is greater than the last integer of the previous row.\n",
    "Given an integer target, return true if target is in matrix or false otherwise.\n",
    "\n",
    "You must write a solution in O(log(m * n)) time complexity."
   ]
  },
  {
   "cell_type": "code",
   "execution_count": 1,
   "id": "cb81dbdb",
   "metadata": {},
   "outputs": [],
   "source": [
    "class Solution(object):\n",
    "    def searchMatrix(self, matrix, target):\n",
    "        \"\"\"\n",
    "        :type matrix: List[List[int]]\n",
    "        :type target: int\n",
    "        :rtype: bool\n",
    "        \"\"\"\n",
    "        def binarysearch(nums, target):\n",
    "            \"\"\"\n",
    "            :type nums: List[int]\n",
    "            :type target: int\n",
    "            :rtype: int\n",
    "            \"\"\"\n",
    "            start, end = 0, len(nums)-1\n",
    "            while start <= end:\n",
    "                mid = int((start+end)/2)\n",
    "                if nums[mid] == target:\n",
    "                    return True\n",
    "                elif nums[mid]>target:\n",
    "                    end = mid-1\n",
    "                else:\n",
    "                    start = mid+1\n",
    "            return False\n",
    "\n",
    "        i = 0\n",
    "        while matrix[i][-1]<=target:\n",
    "            if matrix[i][-1] == target:\n",
    "                return True\n",
    "            i += 1\n",
    "            if i >= len(matrix):\n",
    "                return False\n",
    "            \n",
    "        return binarysearch(matrix[i],target)"
   ]
  },
  {
   "cell_type": "markdown",
   "id": "e8b66e7a",
   "metadata": {},
   "source": [
    "Asnwer: also use binary search for rows searching, then perform binary search on the selected row."
   ]
  },
  {
   "cell_type": "markdown",
   "id": "473fecdd",
   "metadata": {},
   "source": [
    "### 3. Koko Eating Bananas (Medium)\n",
    "Koko loves to eat bananas. There are n piles of bananas, the ith pile has piles[i] bananas. The guards have gone and will come back in h hours.\n",
    "\n",
    "Koko can decide her bananas-per-hour eating speed of k. Each hour, she chooses some pile of bananas and eats k bananas from that pile. If the pile has less than k bananas, she eats all of them instead and will not eat any more bananas during this hour.\n",
    "\n",
    "Koko likes to eat slowly but still wants to finish eating all the bananas before the guards return.\n",
    "\n",
    "Return the minimum integer k such that she can eat all the bananas within h hours.\n",
    "\n",
    "Example 1:\n",
    "\n",
    "Input: piles = [3,6,7,11], h = 8\n",
    "Output: 4\n",
    "\n",
    "Example 2:\n",
    "\n",
    "Input: piles = [30,11,23,4,20], h = 5\n",
    "Output: 30\n",
    "\n",
    "Example 3:\n",
    "\n",
    "Input: piles = [30,11,23,4,20], h = 6\n",
    "Output: 23"
   ]
  },
  {
   "cell_type": "code",
   "execution_count": 2,
   "id": "4903039d",
   "metadata": {},
   "outputs": [],
   "source": [
    "class Solution(object):\n",
    "    def minEatingSpeed(self, piles, h):\n",
    "        \"\"\"\n",
    "        :type piles: List[int]\n",
    "        :type h: int\n",
    "        :rtype: int\n",
    "        \"\"\""
   ]
  },
  {
   "cell_type": "markdown",
   "id": "2ae48883",
   "metadata": {},
   "source": [
    "### 4. Find Minimum in Rotated Sorted Array (Medium)\n",
    "\n",
    "Suppose an array of length n sorted in ascending order is rotated between 1 and n times. For example, the array nums = [0,1,2,4,5,6,7] might become:\n",
    "\n",
    "[4,5,6,7,0,1,2] if it was rotated 4 times.\n",
    "[0,1,2,4,5,6,7] if it was rotated 7 times.\n",
    "Notice that rotating an array [a[0], a[1], a[2], ..., a[n-1]] 1 time results in the array [a[n-1], a[0], a[1], a[2], ..., a[n-2]].\n",
    "\n",
    "Given the sorted rotated array nums of unique elements, return the minimum element of this array.\n",
    "\n",
    "You must write an algorithm that runs in O(log n) time."
   ]
  },
  {
   "cell_type": "code",
   "execution_count": 9,
   "id": "70b4f15a",
   "metadata": {},
   "outputs": [],
   "source": [
    "class Solution(object):\n",
    "    def findMin(self, nums):\n",
    "        \"\"\"\n",
    "        :type nums: List[int]\n",
    "        :rtype: int\n",
    "        \"\"\"\n",
    "        left, right = 0, len(nums)-1\n",
    "        middle = int((right+left)/2)\n",
    "        res = nums[0]\n",
    "        if res < nums[-1]:\n",
    "            return res\n",
    "        \n",
    "        while left < right:\n",
    "            middle = int((left+right)/2)\n",
    "            if middle == left or middle == right:\n",
    "                res = min(nums[left],nums[right])\n",
    "                break\n",
    "            if nums[middle] > nums[right]:\n",
    "                left = middle\n",
    "            elif nums[middle] < nums[right]:\n",
    "                right = middle\n",
    "                \n",
    "        return res"
   ]
  },
  {
   "cell_type": "code",
   "execution_count": 10,
   "id": "8c13cce6",
   "metadata": {},
   "outputs": [],
   "source": [
    "# Answer\n",
    "class Solution(object):\n",
    "    def findMin(self, nums):\n",
    "        left = 0\n",
    "        right = len(nums) - 1\n",
    "\n",
    "        while left < right:\n",
    "            mid = left + (right - left) / 2\n",
    "\n",
    "            if nums[mid] > nums[right]:\n",
    "                left = mid + 1\n",
    "            else:\n",
    "                right = mid\n",
    "\n",
    "        return nums[left]"
   ]
  },
  {
   "cell_type": "markdown",
   "id": "0352dca9",
   "metadata": {},
   "source": [
    "### 5. Search in Rotated Sorted Array (Medium)\n",
    "There is an integer array nums sorted in ascending order (with distinct values).\n",
    "\n",
    "Prior to being passed to your function, nums is possibly rotated at an unknown pivot index k (1 <= k < nums.length) such that the resulting array is [nums[k], nums[k+1], ..., nums[n-1], nums[0], nums[1], ..., nums[k-1]] (0-indexed). For example, [0,1,2,4,5,6,7] might be rotated at pivot index 3 and become [4,5,6,7,0,1,2].\n",
    "\n",
    "Given the array nums after the possible rotation and an integer target, return the index of target if it is in nums, or -1 if it is not in nums.\n",
    "\n",
    "You must write an algorithm with O(log n) runtime complexity.\n",
    "\n",
    "Example 1:\n",
    "\n",
    "Input: nums = [4,5,6,7,0,1,2], target = 0\n",
    "Output: 4\n",
    "\n",
    "Example 2:\n",
    "\n",
    "Input: nums = [4,5,6,7,0,1,2], target = 3\n",
    "Output: -1\n",
    "\n",
    "Example 3:\n",
    "\n",
    "Input: nums = [1], target = 0\n",
    "Output: -1"
   ]
  },
  {
   "cell_type": "code",
   "execution_count": 1,
   "id": "5d7d5562",
   "metadata": {},
   "outputs": [],
   "source": [
    "class Solution(object):\n",
    "    def search(self, nums, target):\n",
    "        \"\"\"\n",
    "        :type nums: List[int]\n",
    "        :type target: int\n",
    "        :rtype: int\n",
    "        \"\"\"\n",
    "        left, right = 0, len(nums)-1\n",
    "        \n",
    "        if len(nums) == 1:\n",
    "            return 0 if nums[0] == target else -1\n",
    "\n",
    "        while left < right:\n",
    "\n",
    "            middle = int((left+right)/2)\n",
    "            \n",
    "            if nums[left] == target:\n",
    "                return left\n",
    "            elif nums[right] == target:\n",
    "                return right\n",
    "            \n",
    "            if middle == left:\n",
    "                return -1\n",
    "                \n",
    "            if nums[middle] < nums[right]:\n",
    "                if target > nums[middle] and target < nums[right]:\n",
    "                    left = middle\n",
    "                else: right = middle\n",
    "            else:\n",
    "                if target > nums[left] and target < nums[middle]:\n",
    "                    right = middle\n",
    "                else: left = middle"
   ]
  },
  {
   "cell_type": "code",
   "execution_count": null,
   "id": "4f378e24",
   "metadata": {},
   "outputs": [],
   "source": []
  },
  {
   "cell_type": "markdown",
   "id": "1df418f7",
   "metadata": {},
   "source": [
    "### 6. Time Based Key-Value Store (Medium)\n",
    "Design a time-based key-value data structure that can store multiple values for the same key at different time stamps and retrieve the key's value at a certain timestamp.\n",
    "\n",
    "Implement the TimeMap class:\n",
    "\n",
    "TimeMap() Initializes the object of the data structure.\n",
    "void set(String key, String value, int timestamp) Stores the key key with the value value at the given time timestamp.\n",
    "String get(String key, int timestamp) Returns a value such that set was called previously, with timestamp_prev <= timestamp. If there are multiple such values, it returns the value associated with the largest timestamp_prev. If there are no values, it returns \"\".\n",
    "\n",
    "Example 1:\n",
    "\n",
    "Input\n",
    "[\"TimeMap\", \"set\", \"get\", \"get\", \"set\", \"get\", \"get\"]\n",
    "[[], [\"foo\", \"bar\", 1], [\"foo\", 1], [\"foo\", 3], [\"foo\", \"bar2\", 4], [\"foo\", 4], [\"foo\", 5]]\n",
    "Output\n",
    "[null, null, \"bar\", \"bar\", null, \"bar2\", \"bar2\"]\n",
    "\n",
    "Explanation\n",
    "TimeMap timeMap = new TimeMap();\n",
    "timeMap.set(\"foo\", \"bar\", 1);  // store the key \"foo\" and value \"bar\" along with timestamp = 1.\n",
    "timeMap.get(\"foo\", 1);         // return \"bar\"\n",
    "timeMap.get(\"foo\", 3);         // return \"bar\", since there is no value corresponding to foo at timestamp 3 and timestamp 2, then the only value is at timestamp 1 is \"bar\".\n",
    "timeMap.set(\"foo\", \"bar2\", 4); // store the key \"foo\" and value \"bar2\" along with timestamp = 4.\n",
    "timeMap.get(\"foo\", 4);         // return \"bar2\"\n",
    "timeMap.get(\"foo\", 5);         // return \"bar2\""
   ]
  },
  {
   "cell_type": "code",
   "execution_count": 3,
   "id": "fbd41ff4",
   "metadata": {},
   "outputs": [
    {
     "ename": "IndentationError",
     "evalue": "expected an indented block after function definition on line 3 (2483497671.py, line 6)",
     "output_type": "error",
     "traceback": [
      "\u001b[1;36m  Cell \u001b[1;32mIn[3], line 6\u001b[1;36m\u001b[0m\n\u001b[1;33m    def set(self, key, value, timestamp):\u001b[0m\n\u001b[1;37m    ^\u001b[0m\n\u001b[1;31mIndentationError\u001b[0m\u001b[1;31m:\u001b[0m expected an indented block after function definition on line 3\n"
     ]
    }
   ],
   "source": [
    "class TimeMap(object):\n",
    "\n",
    "    def __init__(self):\n",
    "        \n",
    "\n",
    "    def set(self, key, value, timestamp):\n",
    "        \"\"\"\n",
    "        :type key: str\n",
    "        :type value: str\n",
    "        :type timestamp: int\n",
    "        :rtype: None\n",
    "        \"\"\"\n",
    "        \n",
    "\n",
    "    def get(self, key, timestamp):\n",
    "        \"\"\"\n",
    "        :type key: str\n",
    "        :type timestamp: int\n",
    "        :rtype: str\n",
    "        \"\"\"\n",
    "        \n",
    "\n",
    "\n",
    "# Your TimeMap object will be instantiated and called as such:\n",
    "# obj = TimeMap()\n",
    "# obj.set(key,value,timestamp)\n",
    "# param_2 = obj.get(key,timestamp)"
   ]
  },
  {
   "cell_type": "markdown",
   "id": "e6e25c09",
   "metadata": {},
   "source": [
    "# Topic: Sliding Window"
   ]
  },
  {
   "cell_type": "markdown",
   "id": "4b4eb0f6",
   "metadata": {},
   "source": [
    "### 1. Best Time to Buy And Sell Stock (Easy)\n",
    "You are given an array prices where prices[i] is the price of a given stock on the ith day.\n",
    "\n",
    "You want to maximize your profit by choosing a single day to buy one stock and choosing a different day in the future to sell that stock.\n",
    "\n",
    "Return the maximum profit you can achieve from this transaction. If you cannot achieve any profit, return 0."
   ]
  },
  {
   "cell_type": "code",
   "execution_count": 1,
   "id": "ca9b5118",
   "metadata": {},
   "outputs": [],
   "source": [
    "class Solution(object):\n",
    "    def maxProfit(self, prices):\n",
    "        \"\"\"\n",
    "        :type prices: List[int]\n",
    "        :rtype: int\n",
    "        \"\"\"\n",
    "        max_profit = 0\n",
    "        min_price = prices[0]\n",
    "        for val in prices:\n",
    "            if val > min_price:\n",
    "                max_price = val - min_price\n",
    "                max_profit = max(max_price,max_profit)\n",
    "            else:\n",
    "                min_price = val\n",
    "                    \n",
    "        return max_profit"
   ]
  },
  {
   "cell_type": "markdown",
   "id": "88c50f46",
   "metadata": {},
   "source": [
    "### 2. Longest Substring Without Repeating Characters (Medium)\n",
    "Given a string s, find the length of the longest substring without repeating characters."
   ]
  },
  {
   "cell_type": "code",
   "execution_count": 11,
   "id": "a79ce4cc",
   "metadata": {},
   "outputs": [],
   "source": [
    "class Solution(object):\n",
    "    def lengthOfLongestSubstring(self, s):\n",
    "        \"\"\"\n",
    "        :type s: str\n",
    "        :rtype: int\n",
    "        \"\"\"\n",
    "        i = 0\n",
    "        res = 0\n",
    "        temp = []\n",
    "        while i < len(s):\n",
    "            if s[i] in temp:\n",
    "                temp = temp[temp.index(s[i])+1:]\n",
    "            temp.append(s[i])\n",
    "            res = max(res, len(temp))\n",
    "            print(temp)\n",
    "            i += 1\n",
    "\n",
    "        return res"
   ]
  },
  {
   "cell_type": "code",
   "execution_count": 12,
   "id": "07e22741",
   "metadata": {},
   "outputs": [
    {
     "name": "stdout",
     "output_type": "stream",
     "text": [
      "['a']\n",
      "['a']\n",
      "['a', 'b']\n",
      "['b', 'a']\n",
      "['a']\n",
      "['a', 'b']\n",
      "['a', 'b', '!']\n",
      "['!', 'b']\n",
      "['b']\n"
     ]
    },
    {
     "data": {
      "text/plain": [
       "3"
      ]
     },
     "execution_count": 12,
     "metadata": {},
     "output_type": "execute_result"
    }
   ],
   "source": [
    "a = Solution()\n",
    "a.lengthOfLongestSubstring(\"aabaab!bb\")"
   ]
  },
  {
   "cell_type": "markdown",
   "id": "03521221",
   "metadata": {},
   "source": [
    "### 3. Longest Repeating Character Replacement (Medium)\n",
    "You are given a string s and an integer k. You can choose any character of the string and change it to any other uppercase English character. You can perform this operation at most k times.\n",
    "\n",
    "Return the length of the longest substring containing the same letter you can get after performing the above operations."
   ]
  },
  {
   "cell_type": "code",
   "execution_count": 2,
   "id": "645b7f40",
   "metadata": {},
   "outputs": [],
   "source": [
    "# Answer\n",
    "class Solution(object):\n",
    "    def characterReplacement(self, s, k):\n",
    "        \"\"\"\n",
    "        :type s: str\n",
    "        :type k: int\n",
    "        :rtype: int\n",
    "        \"\"\"\n",
    "        count = {}\n",
    "        res = 0\n",
    "        maxf = 0\n",
    "        l = 0\n",
    "        \n",
    "        for r in range(len(s)):\n",
    "            count[s[r]] = 1 + count.get(s[r],0)\n",
    "            maxf = max(maxf, count[s[r]])\n",
    "            while r-l+1 - maxf > k:\n",
    "                count[s[l]] -= 1\n",
    "                l += 1\n",
    "\n",
    "            res = max(res, r-l+1)\n",
    "        return res"
   ]
  },
  {
   "cell_type": "markdown",
   "id": "6e31f09c",
   "metadata": {},
   "source": [
    "### 4. Permutation in String (Medium)\n",
    "Given two strings s1 and s2, return true if s2 contains a permutation of s1, or false otherwise.\n",
    "\n",
    "In other words, return true if one of s1's permutations is the substring of s2."
   ]
  },
  {
   "cell_type": "code",
   "execution_count": 9,
   "id": "82441213",
   "metadata": {},
   "outputs": [],
   "source": [
    "class Solution(object):\n",
    "    def checkInclusion(self, s1, s2):\n",
    "        \"\"\"\n",
    "        :type s1: str\n",
    "        :type s2: str\n",
    "        :rtype: bool\n",
    "        \"\"\"\n",
    "        if len(s2) < len(s1):\n",
    "            return False\n",
    "        res = {}\n",
    "        freq = {}\n",
    "        for i in range(len(s1)):\n",
    "            res[s1[i]] = 1 + res.get(s1[i],0)\n",
    "            freq[s2[i]] = 1 + freq.get(s2[i],0)\n",
    "        \n",
    "        left, right = 0, len(s1)-1\n",
    "        while right < len(s2):\n",
    "            if res == freq:\n",
    "                return True\n",
    "            elif right == len(s2) - 1:\n",
    "                return False\n",
    "            else:\n",
    "                freq[s2[left]] -= 1\n",
    "                if freq[s2[left]] == 0: del freq[s2[left]]\n",
    "                left += 1\n",
    "                right += 1\n",
    "                freq[s2[right]] = 1 + freq.get(s2[right],0)\n",
    "                print(freq)"
   ]
  },
  {
   "cell_type": "code",
   "execution_count": 10,
   "id": "7eca8c8f",
   "metadata": {},
   "outputs": [
    {
     "name": "stdout",
     "output_type": "stream",
     "text": [
      "{'i': 1, 'd': 1}\n",
      "{'d': 1, 'b': 1}\n",
      "{'b': 1, 'a': 1}\n"
     ]
    },
    {
     "data": {
      "text/plain": [
       "True"
      ]
     },
     "execution_count": 10,
     "metadata": {},
     "output_type": "execute_result"
    }
   ],
   "source": [
    "s1 = \"ab\"\n",
    "s2 = \"eidbaooo\"\n",
    "a = Solution()\n",
    "a.checkInclusion(s1,s2)"
   ]
  },
  {
   "cell_type": "markdown",
   "id": "8af4e12b",
   "metadata": {},
   "source": [
    "# Topic: Linked List"
   ]
  },
  {
   "cell_type": "markdown",
   "id": "a4ed28d4",
   "metadata": {},
   "source": [
    "### 1. Reverse Linked List (Easy)\n",
    "Given the head of a singly linked list, reverse the list, and return the reversed list."
   ]
  },
  {
   "cell_type": "code",
   "execution_count": 2,
   "id": "35179c9d",
   "metadata": {},
   "outputs": [],
   "source": [
    "# Definition for singly-linked list.\n",
    "# class ListNode(object):\n",
    "#     def __init__(self, val=0, next=None):\n",
    "#         self.val = val\n",
    "#         self.next = next\n",
    "class Solution(object):\n",
    "    def reverseList(self, head):\n",
    "        \"\"\"\n",
    "        :type head: ListNode\n",
    "        :rtype: ListNode\n",
    "        \"\"\"\n",
    "        this = None\n",
    "        while head:\n",
    "            temp = head.next\n",
    "            head.next = this\n",
    "            this = head\n",
    "            head = temp\n",
    "        return this"
   ]
  },
  {
   "cell_type": "markdown",
   "id": "ecfdb773",
   "metadata": {},
   "source": [
    "### 2. Merge Two Sorted Lists (Easy)\n",
    "You are given the heads of two sorted linked lists list1 and list2.\n",
    "\n",
    "Merge the two lists in a one sorted list. The list should be made by splicing together the nodes of the first two lists.\n",
    "\n",
    "Return the head of the merged linked list."
   ]
  },
  {
   "cell_type": "code",
   "execution_count": 1,
   "id": "0741c5a7",
   "metadata": {},
   "outputs": [],
   "source": [
    "# Definition for singly-linked list.\n",
    "# class ListNode(object):\n",
    "#     def __init__(self, val=0, next=None):\n",
    "#         self.val = val\n",
    "#         self.next = next\n",
    "class Solution(object):\n",
    "    def mergeTwoLists(self, list1, list2):\n",
    "        \"\"\"\n",
    "        :type list1: Optional[ListNode]\n",
    "        :type list2: Optional[ListNode]\n",
    "        :rtype: Optional[ListNode]\n",
    "        \"\"\"\n",
    "        dummy = ListNode()\n",
    "        tail = dummy\n",
    "\n",
    "        while list1 and list2:\n",
    "            if list1.val > list2.val:\n",
    "                tail.next = list2\n",
    "                list2 = list2.next\n",
    "            else:\n",
    "                tail.next = list1\n",
    "                list1 = list1.next\n",
    "            tail = tail.next\n",
    "        \n",
    "        if list1 or list2:\n",
    "            tail.next = list1 or list2\n",
    "\n",
    "        return dummy.next"
   ]
  },
  {
   "cell_type": "markdown",
   "id": "fe26700e",
   "metadata": {},
   "source": [
    "### 3. Linked List Cycle (Easy)\n",
    "Given head, the head of a linked list, determine if the linked list has a cycle in it.\n",
    "\n",
    "There is a cycle in a linked list if there is some node in the list that can be reached again by continuously following the next pointer. Internally, pos is used to denote the index of the node that tail's next pointer is connected to. Note that pos is not passed as a parameter.\n",
    "\n",
    "Return true if there is a cycle in the linked list. Otherwise, return false."
   ]
  },
  {
   "cell_type": "code",
   "execution_count": 2,
   "id": "bd03a0b0",
   "metadata": {},
   "outputs": [],
   "source": [
    "# Definition for singly-linked list.\n",
    "# class ListNode(object):\n",
    "#     def __init__(self, x):\n",
    "#         self.val = x\n",
    "#         self.next = None\n",
    "\n",
    "# Answer\n",
    "class Solution:\n",
    "    def hasCycle(self, head):\n",
    "        while head:\n",
    "            # Check if head has the attribute called 'checked', if yes then that mean the node has been visited before\n",
    "            if hasattr(head, 'checked'):\n",
    "                return True\n",
    "            head.checked = None\n",
    "            head = head.next\n",
    "        \n",
    "        return False"
   ]
  },
  {
   "cell_type": "markdown",
   "id": "7ece52fe",
   "metadata": {},
   "source": [
    "### 4. Reorder List (Medium)\n",
    "You are given the head of a singly linked-list. The list can be represented as:\n",
    "\n",
    "L0 → L1 → … → Ln - 1 → Ln\n",
    "Reorder the list to be on the following form:\n",
    "\n",
    "L0 → Ln → L1 → Ln - 1 → L2 → Ln - 2 → …\n",
    "You may not modify the values in the list's nodes. Only nodes themselves may be changed."
   ]
  },
  {
   "cell_type": "code",
   "execution_count": 3,
   "id": "697f7ecb",
   "metadata": {},
   "outputs": [],
   "source": [
    "# Definition for singly-linked list.\n",
    "# class ListNode(object):\n",
    "#     def __init__(self, val=0, next=None):\n",
    "#         self.val = val\n",
    "#         self.next = next\n",
    "\n",
    "# Answer\n",
    "class Solution(object):\n",
    "    def reorderList(self, head):\n",
    "        \"\"\"\n",
    "        :type head: ListNode\n",
    "        :rtype: None Do not return anything, modify head in-place instead.\n",
    "        \"\"\"\n",
    "        # find middle\n",
    "        slow, fast = head, head.next\n",
    "        while fast and fast.next:\n",
    "            slow = slow.next\n",
    "            fast = fast.next.next\n",
    "        \n",
    "        # reverse second half\n",
    "        second = slow.next\n",
    "        prev = slow.next = None\n",
    "\n",
    "        while second:\n",
    "            temp = second.next\n",
    "            second.next = prev\n",
    "            prev = second\n",
    "            second = temp\n",
    "        \n",
    "        # merge two halfs\n",
    "        first, second = head, prev\n",
    "        while second:\n",
    "            tmp1, tmp2 = first.next, second.next\n",
    "            first.next = second\n",
    "            second.next = tmp1\n",
    "            first, second = tmp1, tmp2"
   ]
  },
  {
   "cell_type": "markdown",
   "id": "368fa9fe",
   "metadata": {},
   "source": [
    "### 5. Remove Nth Node From End of List (Medium)\n",
    "Given the head of a linked list, remove the nth node from the end of the list and return its head."
   ]
  },
  {
   "cell_type": "code",
   "execution_count": null,
   "id": "e4abcaae",
   "metadata": {},
   "outputs": [],
   "source": [
    "# Definition for singly-linked list.\n",
    "# class ListNode(object):\n",
    "#     def __init__(self, val=0, next=None):\n",
    "#         self.val = val\n",
    "#         self.next = next\n",
    "\n",
    "# Answer\n",
    "class Solution(object):\n",
    "    def removeNthFromEnd(self, head, n):\n",
    "        \"\"\"\n",
    "        :type head: ListNode\n",
    "        :type n: int\n",
    "        :rtype: ListNode\n",
    "        \"\"\"\n",
    "        fast, slow = head, head\n",
    "        for _ in range(n):\n",
    "            # Stagger the two pointers by a distance of n\n",
    "            fast = fast.next\n",
    "\n",
    "        if not fast: return head.next\n",
    "        while fast.next:\n",
    "            fast, slow = fast.next, slow.next\n",
    "        slow.next = slow.next.next\n",
    "        \n",
    "        return head"
   ]
  },
  {
   "cell_type": "markdown",
   "id": "d985e203",
   "metadata": {},
   "source": [
    "### 6. Copy List With Random Pointer (Medium)"
   ]
  },
  {
   "cell_type": "code",
   "execution_count": null,
   "id": "55e095b9",
   "metadata": {},
   "outputs": [],
   "source": []
  },
  {
   "cell_type": "markdown",
   "id": "2791511b",
   "metadata": {},
   "source": [
    "### 7. Add Two Numbers (Medium)\n",
    "You are given two non-empty linked lists representing two non-negative integers. The digits are stored in reverse order, and each of their nodes contains a single digit. Add the two numbers and return the sum as a linked list.\n",
    "\n",
    "You may assume the two numbers do not contain any leading zero, except the number 0 itself."
   ]
  },
  {
   "cell_type": "code",
   "execution_count": null,
   "id": "bb6776bb",
   "metadata": {},
   "outputs": [],
   "source": [
    "# Definition for singly-linked list.\n",
    "# class ListNode(object):\n",
    "#     def __init__(self, val=0, next=None):\n",
    "#         self.val = val\n",
    "#         self.next = next\n",
    "\n",
    "# Answer\n",
    "class Solution(object):\n",
    "    def addTwoNumbers(self, l1, l2):\n",
    "        \"\"\"\n",
    "        :type l1: ListNode\n",
    "        :type l2: ListNode\n",
    "        :rtype: ListNode\n",
    "        \"\"\"\n",
    "        dummy = ListNode()\n",
    "        curr = dummy\n",
    "\n",
    "        carry = 0\n",
    "        while l1 or l2 or carry :\n",
    "            v1 = l1.val if l1 else 0\n",
    "            v2 = l2.val if l2 else 0\n",
    "            \n",
    "            val = v1 + v2 + carry\n",
    "            carry = val // 10\n",
    "            val = val % 10\n",
    "            curr.next = ListNode(val)\n",
    "\n",
    "            curr = curr.next\n",
    "            l1 = l1.next if l1 else None\n",
    "            l2 = l2.next if l2 else None\n",
    "\n",
    "        return dummy.next"
   ]
  },
  {
   "cell_type": "markdown",
   "id": "6ddee24e",
   "metadata": {},
   "source": [
    "### 8. Find The Duplicate Number (Medium)\n",
    "Given an array of integers nums containing n + 1 integers where each integer is in the range [1, n] inclusive.\n",
    "\n",
    "There is only one repeated number in nums, return this repeated number.\n",
    "\n",
    "You must solve the problem without modifying the array nums and uses only constant extra space."
   ]
  },
  {
   "cell_type": "code",
   "execution_count": null,
   "id": "b8e3076e",
   "metadata": {},
   "outputs": [],
   "source": [
    "# Answer\n",
    "# Floyd's Algorithm\n",
    "class Solution(object):\n",
    "    def findDuplicate(self, nums):\n",
    "        \"\"\"\n",
    "        :type nums: List[int]\n",
    "        :rtype: int\n",
    "        \"\"\"\n",
    "        slow, fast = 0, 0\n",
    "        while True:\n",
    "            slow = nums[slow]\n",
    "            fast = nums[nums[fast]]\n",
    "            if slow == fast:\n",
    "                break\n",
    "        \n",
    "        slow2 = 0\n",
    "        while True:\n",
    "            slow = nums[slow]\n",
    "            slow2 = nums[slow2]\n",
    "            if slow == slow2:\n",
    "                return slow\n",
    "        "
   ]
  },
  {
   "cell_type": "markdown",
   "id": "6efdb4ed",
   "metadata": {},
   "source": [
    "### 9. LRU Cache (Medium)\n",
    "Design a data structure that follows the constraints of a Least Recently Used (LRU) cache.\n",
    "\n",
    "Implement the LRUCache class:\n",
    "\n",
    "LRUCache(int capacity) Initialize the LRU cache with positive size capacity.\n",
    "int get(int key) Return the value of the key if the key exists, otherwise return -1.\n",
    "void put(int key, int value) Update the value of the key if the key exists. Otherwise, add the key-value pair to the cache. If the number of keys exceeds the capacity from this operation, evict the least recently used key.\n",
    "The functions get and put must each run in O(1) average time complexity."
   ]
  },
  {
   "cell_type": "code",
   "execution_count": 1,
   "id": "8c1fa6d9",
   "metadata": {},
   "outputs": [],
   "source": [
    "class Node:\n",
    "    def __init__(self, key, val):\n",
    "        self.key, self.val = key, val\n",
    "        self.prev = self.Next = None\n",
    "\n",
    "class LRUCache(object):\n",
    "\n",
    "    def __init__(self, capacity):\n",
    "        \"\"\"\n",
    "        :type capacity: int\n",
    "        \"\"\"\n",
    "        self.cap = capacity\n",
    "        self.cache = {} # map the key to node\n",
    "\n",
    "        # Left = LRU, right = MRU\n",
    "        self.left, self.right = Node(0, 0), Node(0, 0)\n",
    "        self.left.next, self.right.prev = self.right, self.left\n",
    "\n",
    "\n",
    "    # remove node from list\n",
    "    def remove(self, node):\n",
    "        prev, nxt = node.prev, node.next\n",
    "        prev.next, nxt.prev = nxt, prev\n",
    "\n",
    "\n",
    "    # insert node at right\n",
    "    def insert(self, node):\n",
    "        prev, nxt = self.right.prev, self.right\n",
    "        prev.next = nxt.prev = node\n",
    "        node.next, node.prev = nxt, prev\n",
    "\n",
    "    def get(self, key):\n",
    "        \"\"\"\n",
    "        :type key: int\n",
    "        :rtype: int\n",
    "        \"\"\"\n",
    "        if key in self.cache:\n",
    "            # most recently used node, remove and add to MRU\n",
    "            self.remove(self.cache[key])\n",
    "            self.insert(self.cache[key])\n",
    "            return self.cache[key].val\n",
    "        return -1\n",
    "\n",
    "    def put(self, key, value):\n",
    "        \"\"\"\n",
    "        :type key: int\n",
    "        :type value: int\n",
    "        :rtype: None\n",
    "        \"\"\"\n",
    "        if key in self.cache:\n",
    "            self.remove(self.cache[key])\n",
    "        self.cache[key] = Node(key,value)\n",
    "        self.insert(self.cache[key])\n",
    "        \n",
    "        if len(self.cache) > self.cap:\n",
    "            lru = self.left.next\n",
    "            self.remove(lru)\n",
    "            del self.cache[lru.key]\n",
    "         \n",
    "\n",
    "\n",
    "# Your LRUCache object will be instantiated and called as such:\n",
    "# obj = LRUCache(capacity)\n",
    "# param_1 = obj.get(key)\n",
    "# obj.put(key,value)"
   ]
  },
  {
   "cell_type": "markdown",
   "id": "8c96f8d3",
   "metadata": {},
   "source": [
    "# Topic: Trees"
   ]
  },
  {
   "cell_type": "markdown",
   "id": "4e77fd91",
   "metadata": {},
   "source": [
    "### 1. Invert Binary Tree (Easy)\n",
    "Given the root of a binary tree, invert the tree, and return its root."
   ]
  },
  {
   "cell_type": "code",
   "execution_count": 44,
   "id": "09b87dcc",
   "metadata": {},
   "outputs": [],
   "source": [
    "# Definition for a binary tree node.\n",
    "# class TreeNode(object):\n",
    "#     def __init__(self, val=0, left=None, right=None):\n",
    "#         self.val = val\n",
    "#         self.left = left\n",
    "#         self.right = right\n",
    "class Solution(object):\n",
    "    def invertTree(self, root):\n",
    "        \"\"\"\n",
    "        :type root: TreeNode\n",
    "        :rtype: TreeNode\n",
    "        \"\"\"\n",
    "        if not root:\n",
    "            return None\n",
    "        if root.left == None and root.right == None:\n",
    "            return root\n",
    "        \n",
    "        temp = root.right\n",
    "        root.right = root.left\n",
    "        root.left = temp\n",
    "        \n",
    "        a = Solution()\n",
    "        \n",
    "        root.left = a.invertTree(root.left)\n",
    "        root.right = a.invertTree(root.right)\n",
    "        \n",
    "        return root"
   ]
  },
  {
   "cell_type": "code",
   "execution_count": 3,
   "id": "269f041a",
   "metadata": {},
   "outputs": [],
   "source": [
    "class Solution(object):\n",
    "    def invertTree(self, root):\n",
    "        \"\"\"\n",
    "        :type root: TreeNode\n",
    "        :rtype: TreeNode\n",
    "        \"\"\"\n",
    "        def invertthisnode(head):\n",
    "            if head:\n",
    "                head.left, head.right = head.right, head.left\n",
    "                invertthisnode(head.left)\n",
    "                invertthisnode(head.right)\n",
    "            else:\n",
    "                return\n",
    "\n",
    "        invertthisnode(root)\n",
    "        return root"
   ]
  },
  {
   "cell_type": "markdown",
   "id": "50004203",
   "metadata": {},
   "source": [
    "### 2. Maximum Depth of Binary Tree (Easy)\n",
    "Given the root of a binary tree, return its maximum depth.\n",
    "\n",
    "A binary tree's maximum depth is the number of nodes along the longest path from the root node down to the farthest leaf node."
   ]
  },
  {
   "cell_type": "code",
   "execution_count": 2,
   "id": "48183c3e",
   "metadata": {},
   "outputs": [],
   "source": [
    "class Solution(object):\n",
    "    def maxDepth(self, root):\n",
    "        \"\"\"\n",
    "        :type root: TreeNode\n",
    "        :rtype: int\n",
    "        \"\"\"\n",
    "        def dfs(node, depth):\n",
    "            if not node:\n",
    "                return depth\n",
    "            else:\n",
    "                depth += 1\n",
    "                left_depth = dfs(node.left, depth)\n",
    "                right_depth = dfs(node.right, depth)\n",
    "                return max(left_depth, right_depth)\n",
    "\n",
    "        res = dfs(root, 0)\n",
    "        return res"
   ]
  },
  {
   "cell_type": "code",
   "execution_count": 45,
   "id": "4a5c582c",
   "metadata": {},
   "outputs": [],
   "source": [
    "class Solution(object):\n",
    "    def maxDepth(self, root):\n",
    "        \"\"\"\n",
    "        :type root: TreeNode\n",
    "        :rtype: int\n",
    "        \"\"\"\n",
    "        if not root:\n",
    "            return 0\n",
    "        if root.left == None and root.right == None:\n",
    "            return 1\n",
    "        return 1+max(self.maxDepth(root.left),self.maxDepth(root.right))"
   ]
  },
  {
   "cell_type": "markdown",
   "id": "ef9f8b93",
   "metadata": {},
   "source": [
    "### 3. Diameter of Binary Tree (Easy)\n",
    "Given the root of a binary tree, return the length of the diameter of the tree.\n",
    "\n",
    "The diameter of a binary tree is the length of the longest path between any two nodes in a tree. This path may or may not pass through the root.\n",
    "\n",
    "The length of a path between two nodes is represented by the number of edges between them."
   ]
  },
  {
   "cell_type": "code",
   "execution_count": 53,
   "id": "b1acb8c9",
   "metadata": {},
   "outputs": [],
   "source": [
    "# Definition for a binary tree node.\n",
    "# class TreeNode(object):\n",
    "#     def __init__(self, val=0, left=None, right=None):\n",
    "#         self.val = val\n",
    "#         self.left = left\n",
    "#         self.right = right\n",
    "\n",
    "class Solution(object):\n",
    "    def __init__(self):\n",
    "        self.diameter = 0  # stores the maximum diameter calculated\n",
    "\n",
    "    def depth(self, node):\n",
    "        \"\"\"\n",
    "        This function needs to do the following:\n",
    "            1. Calculate the maximum depth of the left and right sides of the given node\n",
    "            2. Determine the diameter at the given node and check if its the maximum\n",
    "        \"\"\"\n",
    "        # Calculate maximum depth\n",
    "        left = self.depth(node.left) if node.left else 0\n",
    "        right = self.depth(node.right) if node.right else 0\n",
    "        # Calculate diameter\n",
    "        if left + right > self.diameter:\n",
    "            self.diameter = left + right\n",
    "        # Make sure the parent node(s) get the correct depth from this node\n",
    "        return 1 + (left if left > right else right)\n",
    "    \n",
    "    def diameterOfBinaryTree(self, root) -> int:\n",
    "        # if not root:\n",
    "        #     return 0\n",
    "        self.depth(root)  # root is guaranteed to be a TreeNode object\n",
    "        return self.diameter"
   ]
  },
  {
   "cell_type": "code",
   "execution_count": 2,
   "id": "83c99817",
   "metadata": {},
   "outputs": [],
   "source": [
    "class Solution(object):\n",
    "    def diameterOfBinaryTree(self, root):\n",
    "        \"\"\"\n",
    "        :type root: TreeNode\n",
    "        :rtype: int\n",
    "        \"\"\"\n",
    "        global res\n",
    "        def dfs(root):\n",
    "            global res\n",
    "            if not root:\n",
    "                return 0         \n",
    "            else:\n",
    "                left_width = dfs(root.left)\n",
    "                right_width = dfs(root.right)\n",
    "                res = max(res, (left_width+right_width))\n",
    "                return 1 + max(left_width, right_width)  \n",
    "        res = 0 \n",
    "        dfs(root)\n",
    "        return res"
   ]
  },
  {
   "cell_type": "markdown",
   "id": "9c7da68a",
   "metadata": {},
   "source": [
    "### Same Tree\n",
    "Given the roots of two binary trees p and q, write a function to check if they are the same or not.\n",
    "\n",
    "Two binary trees are considered the same if they are structurally identical, and the nodes have the same value."
   ]
  },
  {
   "cell_type": "code",
   "execution_count": 47,
   "id": "e1391a45",
   "metadata": {},
   "outputs": [],
   "source": [
    "# Definition for a binary tree node.\n",
    "# class TreeNode(object):\n",
    "#     def __init__(self, val=0, left=None, right=None):\n",
    "#         self.val = val\n",
    "#         self.left = left\n",
    "#         self.right = right\n",
    "class Solution(object):\n",
    "    def isSameTree(self, p, q):\n",
    "        \"\"\"\n",
    "        :type p: TreeNode\n",
    "        :type q: TreeNode\n",
    "        :rtype: bool\n",
    "        \"\"\"\n",
    "        if p == None and q == None:\n",
    "            return True\n",
    "        elif p == None or q == None:\n",
    "            return False\n",
    "        elif p.val != q.val:\n",
    "            return False\n",
    "        else:\n",
    "            return self.isSameTree(p.left,q.left) and self.isSameTree(p.right,q.right)"
   ]
  },
  {
   "cell_type": "code",
   "execution_count": 49,
   "id": "28fe42e2",
   "metadata": {},
   "outputs": [],
   "source": [
    "# if p and q:\n",
    "#    return p.val == q.val and self.isSameTree(p.left, q.left) and \n",
    "#    self.isSameTree(p.right, q.right)\n",
    "#return p is q"
   ]
  },
  {
   "cell_type": "markdown",
   "id": "1831e329",
   "metadata": {},
   "source": [
    "### Balanced Binary Tree\n",
    "Given a binary tree, determine if it is height-balanced.<br>\n",
    "A height-balanced binary tree is a binary tree in which the depth of the two subtrees of every node never differs by more than one."
   ]
  },
  {
   "cell_type": "code",
   "execution_count": 50,
   "id": "d4c0322d",
   "metadata": {},
   "outputs": [],
   "source": [
    "# Definition for a binary tree node.\n",
    "# class TreeNode(object):\n",
    "#     def __init__(self, val=0, left=None, right=None):\n",
    "#         self.val = val\n",
    "#         self.left = left\n",
    "#         self.right = right\n",
    "class Solution(object):\n",
    "    def isBalanced(self, root):\n",
    "        \"\"\"\n",
    "        :type root: TreeNode\n",
    "        :rtype: bool\n",
    "        \"\"\"\n",
    "        "
   ]
  },
  {
   "cell_type": "markdown",
   "id": "c36c9761",
   "metadata": {},
   "source": [
    "### Subtree of Another Tree\n",
    "Given the roots of two binary trees root and subRoot, return true if there is a subtree of root with the same structure and node values of subRoot and false otherwise.\n",
    "\n",
    "A subtree of a binary tree tree is a tree that consists of a node in tree and all of this node's descendants. The tree tree could also be considered as a subtree of itself."
   ]
  },
  {
   "cell_type": "code",
   "execution_count": 5,
   "id": "487d6e03",
   "metadata": {},
   "outputs": [],
   "source": [
    "# Definition for a binary tree node.\n",
    "# class TreeNode(object):\n",
    "#     def __init__(self, val=0, left=None, right=None):\n",
    "#         self.val = val\n",
    "#         self.left = left\n",
    "#         self.right = right\n",
    "class Solution(object):\n",
    "    def isSameTree(self, p,q):\n",
    "        if p and q:\n",
    "            return p.val == q.val and self.isSameTree(p.left, q.left) and self.isSameTree(p.right, q.right)\n",
    "        return p is q\n",
    "    \n",
    "    def isSubtree(self, root, subRoot):\n",
    "        \"\"\"\n",
    "        :type root: TreeNode\n",
    "        :type subRoot: TreeNode\n",
    "        :rtype: bool\n",
    "        \"\"\"\n",
    "        if not root: \n",
    "            return False\n",
    "        if self.isSameTree(root, subRoot): \n",
    "            return True\n",
    "        return self.isSubtree(root.left, subRoot) or self.isSubtree(root.right, subRoot)"
   ]
  },
  {
   "cell_type": "markdown",
   "id": "0de2fb8d",
   "metadata": {},
   "source": [
    "## Tries"
   ]
  },
  {
   "cell_type": "markdown",
   "id": "9c36a76d",
   "metadata": {},
   "source": [
    "### Implement Trie(Prefix Tree)\n",
    "A trie (pronounced as \"try\") or prefix tree is a tree data structure used to efficiently store and retrieve keys in a dataset of strings. There are various applications of this data structure, such as autocomplete and spellchecker.\n",
    "\n",
    "Implement the Trie class:\n",
    "\n",
    "Trie() Initializes the trie object.\n",
    "void insert(String word) Inserts the string word into the trie.\n",
    "boolean search(String word) Returns true if the string word is in the trie (i.e., was inserted before), and false otherwise.\n",
    "boolean startsWith(String prefix) Returns true if there is a previously inserted string word that has the prefix prefix, and false otherwise."
   ]
  },
  {
   "cell_type": "code",
   "execution_count": 9,
   "id": "ae93bffa",
   "metadata": {},
   "outputs": [],
   "source": [
    "class TrieNode(object):\n",
    "    \n",
    "    def __init__(self):\n",
    "        self.connections = {}\n",
    "        self.endofWord = False\n",
    "\n",
    "class Trie(object):\n",
    "\n",
    "    def __init__(self):\n",
    "        self.root = TrieNode()\n",
    "\n",
    "    def insert(self, word):\n",
    "        \"\"\"\n",
    "        :type word: str\n",
    "        :rtype: None\n",
    "        \"\"\"\n",
    "        curr = self.root\n",
    "        for c in word:\n",
    "            if c not in curr.connections:\n",
    "                curr.connections[c] = TrieNode()\n",
    "            curr = curr.connections[c]\n",
    "        curr.endofWord = True\n",
    "\n",
    "    def search(self, word):\n",
    "        \"\"\"\n",
    "        :type word: str\n",
    "        :rtype: bool\n",
    "        \"\"\"\n",
    "        curr = self.root\n",
    "        for c in word:\n",
    "            if c not in curr.connections:\n",
    "                return False\n",
    "            curr = curr.connections[c]\n",
    "        return curr.endofWord\n",
    "        \n",
    "    def startsWith(self, prefix):\n",
    "        \"\"\"\n",
    "        :type prefix: str\n",
    "        :rtype: bool\n",
    "        \"\"\"\n",
    "        curr = self.root\n",
    "        for c in prefix:\n",
    "            if c not in curr.connections:\n",
    "                return False\n",
    "            curr = curr.connections[c]\n",
    "        return True\n",
    "        \n",
    "# Your Trie object will be instantiated and called as such:\n",
    "# obj = Trie()\n",
    "# obj.insert(word)\n",
    "# param_2 = obj.search(word)\n",
    "# param_3 = obj.startsWith(prefix)"
   ]
  },
  {
   "cell_type": "markdown",
   "id": "00dda0e4",
   "metadata": {},
   "source": [
    "### Design Add and Search Words Data Structure\n",
    "Design a data structure that supports adding new words and finding if a string matches any previously added string.\n",
    "\n",
    "Implement the WordDictionary class:\n",
    "\n",
    "WordDictionary() Initializes the object.\n",
    "void addWord(word) Adds word to the data structure, it can be matched later.\n",
    "bool search(word) Returns true if there is any string in the data structure that matches word or false otherwise. word may contain dots '.' where dots can be matched with any letter."
   ]
  },
  {
   "cell_type": "code",
   "execution_count": 13,
   "id": "2b77034a",
   "metadata": {},
   "outputs": [],
   "source": [
    "class WordDictionary(object):\n",
    "\n",
    "    def __init__(self):\n",
    "        self.mdict = {}\n",
    "        self.endofWord = False\n",
    "\n",
    "    def addWord(self, word):\n",
    "        \"\"\"\n",
    "        :type word: str\n",
    "        :rtype: None\n",
    "        \"\"\"\n",
    "        curr = self\n",
    "        for c in word:\n",
    "            if c not in curr.mdict:\n",
    "                curr.mdict[c] = WordDictionary()\n",
    "            curr = curr.mdict[c]\n",
    "        curr.endofWord = True\n",
    "\n",
    "    def search(self, word):\n",
    "        \"\"\"\n",
    "        :type word: str\n",
    "        :rtype: bool\n",
    "        \"\"\"\n",
    "        curr = self\n",
    "        for i in range(len(word)):\n",
    "            c = word[i]\n",
    "            if c != '.':\n",
    "                if c not in curr.mdict:\n",
    "                    return False\n",
    "                curr = curr.mdict[c]\n",
    "            else:\n",
    "                for ch in curr.mdict.values():\n",
    "                    if ch.search(word[i+1:]) == True:\n",
    "                        return True\n",
    "                return False\n",
    "        return curr.endofWord"
   ]
  },
  {
   "cell_type": "code",
   "execution_count": 14,
   "id": "33769887",
   "metadata": {},
   "outputs": [],
   "source": [
    "class TrieNode:\n",
    "    def __init__(self):\n",
    "        self.children = {}\n",
    "        self.is_word = False\n",
    "\n",
    "class WordDictionary(object):\n",
    "\n",
    "    def __init__(self):\n",
    "        self.root = TrieNode()\n",
    "\n",
    "    def addWord(self, word):\n",
    "        \"\"\"\n",
    "        :type word: str\n",
    "        :rtype: None\n",
    "        \"\"\"\n",
    "        curr = self.root\n",
    "        for c in word:\n",
    "            if c not in curr.children:\n",
    "                curr.children[c] = TrieNode()\n",
    "            curr = curr.children[c]\n",
    "        curr.is_word = True\n",
    "\n",
    "    def search(self, word):\n",
    "        \"\"\"\n",
    "        :type word: str\n",
    "        :rtype: bool\n",
    "        \"\"\"\n",
    "        def dfs(node,index):\n",
    "            if index == len(word):\n",
    "                return node.is_word\n",
    "\n",
    "            if word[index] == \".\":\n",
    "                for children in node.children.values():\n",
    "                    if dfs(children,index+1):\n",
    "                        return True\n",
    "\n",
    "            if word[index] in node.children:\n",
    "                return dfs(node.children[word[index]],index+1)\n",
    "\n",
    "            return False\n",
    "        return dfs(self.root,0)\n",
    "                \n",
    "# Your WordDictionary object will be instantiated and called as such:\n",
    "# obj = WordDictionary()\n",
    "# obj.addWord(word)\n",
    "# param_2 = obj.search(word)"
   ]
  },
  {
   "cell_type": "markdown",
   "id": "dd575056",
   "metadata": {},
   "source": [
    "## Heap / Priority Queue"
   ]
  },
  {
   "cell_type": "markdown",
   "id": "dac0d9ac",
   "metadata": {},
   "source": [
    "### Kth Largest Element In a Stream\n",
    "Design a class to find the kth largest element in a stream. Note that it is the kth largest element in the sorted order, not the kth distinct element.\n",
    "\n",
    "Implement KthLargest class:\n",
    "\n",
    "KthLargest(int k, int[] nums) Initializes the object with the integer k and the stream of integers nums.\n",
    "int add(int val) Appends the integer val to the stream and returns the element representing the kth largest element in the stream."
   ]
  },
  {
   "cell_type": "code",
   "execution_count": 15,
   "id": "3018666f",
   "metadata": {},
   "outputs": [],
   "source": [
    "class KthLargest(object):\n",
    "\n",
    "    def __init__(self, k, nums):\n",
    "        \"\"\"\n",
    "        :type k: int\n",
    "        :type nums: List[int]\n",
    "        \"\"\"\n",
    "        self.arr = sorted(nums)[-k:]\n",
    "        self.k = k\n",
    "        \n",
    "    def add(self, val):\n",
    "        \"\"\"\n",
    "        :type val: int\n",
    "        :rtype: int\n",
    "        \"\"\"\n",
    "        if len(self.arr) < self.k:\n",
    "            self.arr.append(val)\n",
    "            self.arr.sort()\n",
    "            return self.arr[-self.k]\n",
    "\n",
    "        if val<=self.arr[0]:\n",
    "            return self.arr[0]\n",
    "        else:\n",
    "            index = 0\n",
    "            for i,n in enumerate(self.arr):\n",
    "                if val > n:\n",
    "                    index = i\n",
    "            self.arr.insert(index+1,val)\n",
    "            self.arr.pop(0)\n",
    "            return self.arr[0]"
   ]
  },
  {
   "cell_type": "code",
   "execution_count": 1,
   "id": "db203d76",
   "metadata": {},
   "outputs": [],
   "source": [
    "class KthLargest(object):\n",
    "\n",
    "    def __init__(self, k, nums):\n",
    "        #minHeap with K largest integers\n",
    "        self.minHeap = nums\n",
    "        self.k = k\n",
    "        heapq.heapify(self.minHeap)\n",
    "        while len(self.minHeap) > k:\n",
    "            heapq.heappop(self.minHeap)\n",
    "            \n",
    "    def add(self, val):\n",
    "        heapq.heappush(self.minHeap, val)\n",
    "        if len(self.minHeap) > self.k:\n",
    "            heapq.heappop(self.minHeap)\n",
    "        return self.minHeap[0]"
   ]
  },
  {
   "cell_type": "markdown",
   "id": "fb9a1ef9",
   "metadata": {},
   "source": [
    "### Last Stone Weight\n",
    "You are given an array of integers stones where stones[i] is the weight of the ith stone.\n",
    "\n",
    "We are playing a game with the stones. On each turn, we choose the heaviest two stones and smash them together. Suppose the heaviest two stones have weights x and y with x <= y. The result of this smash is:\n",
    "\n",
    "If x == y, both stones are destroyed, and\n",
    "If x != y, the stone of weight x is destroyed, and the stone of weight y has new weight y - x.\n",
    "At the end of the game, there is at most one stone left.\n",
    "\n",
    "Return the weight of the last remaining stone. If there are no stones left, return 0."
   ]
  },
  {
   "cell_type": "code",
   "execution_count": 2,
   "id": "e7858fc0",
   "metadata": {},
   "outputs": [],
   "source": [
    "class Solution(object):\n",
    "    def lastStoneWeight(self, stones):\n",
    "        \"\"\"\n",
    "        :type stones: List[int]\n",
    "        :rtype: int\n",
    "        \"\"\"\n",
    "        stones = [ -i for i in lst ]\n",
    "        heapq.heapify(stones)\n",
    "        while len(stones) >= 3:\n",
    "            if stones[0] == stones[1] or stones[0] == stones[2]:\n",
    "                heapq.heappop(stones)\n",
    "                heapq.heappop(stones)\n",
    "            else:\n",
    "                stones[0] = stones[0] - stones[1] if stones[2] > stones[1] else stones[0] - stones[2]\n",
    "                heapq.heappop(stones)\n",
    "        \n",
    "        if len(stones) == 1:\n",
    "            return -1*stones[0]\n",
    "        else:\n",
    "            if stones[0] == stones[1]:\n",
    "                return 0\n",
    "            else:\n",
    "                return stones[1] - stones[0]"
   ]
  },
  {
   "cell_type": "code",
   "execution_count": 3,
   "id": "3d9b8d97",
   "metadata": {},
   "outputs": [],
   "source": [
    "class Solution(object):\n",
    "    def lastStoneWeight(self, stones):\n",
    "        \"\"\"\n",
    "        :type stones: List[int]\n",
    "        :rtype: int\n",
    "        \"\"\"\n",
    "        stones = [ -i for i in stones]\n",
    "        heapq.heapify(stones)\n",
    "        \n",
    "        while len(stones)>1:\n",
    "            first = heapq.heappop(stones)\n",
    "            second = heapq.heappop(stones)\n",
    "            if second > first:\n",
    "                heapq.heappush(stones,first - second)\n",
    "                \n",
    "        stones.append(0)\n",
    "        return abs(stones[0])"
   ]
  },
  {
   "cell_type": "markdown",
   "id": "865e7897",
   "metadata": {},
   "source": [
    "## Back Tracking"
   ]
  },
  {
   "cell_type": "markdown",
   "id": "29d247f6",
   "metadata": {},
   "source": [
    "### Subsets\n",
    "Given an integer array nums of unique elements, return all possible \n",
    "subsets\n",
    " (the power set).\n",
    "\n",
    "The solution set must not contain duplicate subsets. Return the solution in any order."
   ]
  },
  {
   "cell_type": "code",
   "execution_count": 1,
   "id": "134cf4c3",
   "metadata": {},
   "outputs": [],
   "source": [
    "class Solution(object):\n",
    "    def subsets(self, nums):\n",
    "        \"\"\"\n",
    "        :type nums: List[int]\n",
    "        :rtype: List[List[int]]\n",
    "        \"\"\"\n",
    "        res = []\n",
    "        subset = []\n",
    "        def dfs(n):\n",
    "            if n>= len(nums):\n",
    "                res.append(list(subset))\n",
    "                return\n",
    "            \n",
    "            subset.append(nums[n])\n",
    "            dfs(n+1)\n",
    "\n",
    "            subset.pop()\n",
    "            dfs(n+1)\n",
    "\n",
    "        dfs(0)\n",
    "        return res"
   ]
  },
  {
   "cell_type": "markdown",
   "id": "2ccbd782",
   "metadata": {},
   "source": [
    "### Combination Sum\n",
    "Given an array of distinct integers candidates and a target integer target, return a list of all unique combinations of candidates where the chosen numbers sum to target. You may return the combinations in any order.\n",
    "\n",
    "The same number may be chosen from candidates an unlimited number of times. Two combinations are unique if the \n",
    "frequency\n",
    " of at least one of the chosen numbers is different.\n",
    "\n",
    "The test cases are generated such that the number of unique combinations that sum up to target is less than 150 combinations for the given input."
   ]
  },
  {
   "cell_type": "code",
   "execution_count": 2,
   "id": "82c4b8c6",
   "metadata": {},
   "outputs": [],
   "source": [
    "class Solution(object):\n",
    "    def combinationSum(self, candidates, target):\n",
    "        \"\"\"\n",
    "        :type candidates: List[int]\n",
    "        :type target: int\n",
    "        :rtype: List[List[int]]\n",
    "        \"\"\"\n",
    "        res = []\n",
    "        \n",
    "        def dfs(i, cur, total):\n",
    "            if total == target:\n",
    "                res.append(list(cur))\n",
    "                return\n",
    "            if i >= len(candidates) or total > target:\n",
    "                return\n",
    "            \n",
    "            cur.append(candidates[i])\n",
    "            dfs(i,cur,total+candidates[i])\n",
    "\n",
    "            cur.pop()\n",
    "            dfs(i+1,cur,total)\n",
    "\n",
    "        dfs(0,[],0)\n",
    "        return res"
   ]
  },
  {
   "cell_type": "markdown",
   "id": "84b8b098",
   "metadata": {},
   "source": [
    "### Permutations\n",
    "Given an array nums of distinct integers, return all the possible permutations. You can return the answer in any order."
   ]
  },
  {
   "cell_type": "code",
   "execution_count": 3,
   "id": "a1d65fb1",
   "metadata": {},
   "outputs": [],
   "source": [
    "class Solution(object):\n",
    "    def permute(self, nums):\n",
    "        \"\"\"\n",
    "        :type nums: List[int]\n",
    "        :rtype: List[List[int]]\n",
    "        \"\"\"\n",
    "        res = []\n",
    "        def dfs(curr,nums):\n",
    "            if len(curr) == len(nums):\n",
    "                res.append(list(curr))\n",
    "                return\n",
    "            for n in nums:\n",
    "                if n not in curr:\n",
    "                    curr.append(n)\n",
    "                    dfs(curr,nums)\n",
    "                    curr.pop()\n",
    "\n",
    "        dfs([],nums)\n",
    "        return res"
   ]
  },
  {
   "cell_type": "markdown",
   "id": "1e94958a",
   "metadata": {},
   "source": [
    "## 1-D Dynamic Programming"
   ]
  },
  {
   "cell_type": "markdown",
   "id": "ad6e8079",
   "metadata": {},
   "source": [
    "### Climbing Stairs\n",
    "You are climbing a staircase. It takes n steps to reach the top.\n",
    "\n",
    "Each time you can either climb 1 or 2 steps. In how many distinct ways can you climb to the top?"
   ]
  },
  {
   "cell_type": "code",
   "execution_count": 4,
   "id": "06f7bf03",
   "metadata": {},
   "outputs": [],
   "source": [
    "class Solution(object):\n",
    "    def __init__(self):\n",
    "        self.res = 0\n",
    "\n",
    "    def climbStairs(self, n):\n",
    "        \"\"\"\n",
    "        :type n: int\n",
    "        :rtype: int\n",
    "        \"\"\"\n",
    "        self.dfs(0,n)\n",
    "        return self.res\n",
    "\n",
    "    def dfs(self,curr_sum,n):\n",
    "        if curr_sum > n:\n",
    "            return\n",
    "        elif curr_sum == n-2:\n",
    "            self.res += 2\n",
    "            return\n",
    "        elif curr_sum == n-1:\n",
    "            self.res += 1\n",
    "            return\n",
    "        elif curr_sum == n:\n",
    "            self.res += 1\n",
    "            return\n",
    "        curr_sum += 1\n",
    "        self.dfs(curr_sum,n)\n",
    "        curr_sum -= 1\n",
    "\n",
    "        curr_sum += 2\n",
    "        self.dfs(curr_sum,n)\n",
    "        curr_sum -= 2"
   ]
  },
  {
   "cell_type": "code",
   "execution_count": 6,
   "id": "fd20cbc1",
   "metadata": {},
   "outputs": [],
   "source": [
    "class Solution(object):\n",
    "    def climbStairs(self, n):\n",
    "        \"\"\"\n",
    "        :type n: int\n",
    "        :rtype: int\n",
    "        \"\"\"\n",
    "        if n==0: return 0\n",
    "        if n==1: return 1\n",
    "        if n==2: return 2\n",
    "        dp = [0]*(n+1) # considering zero steps we need n+1 places\n",
    "        dp[1]= 1\n",
    "        dp[2] = 2\n",
    "        for i in range(3,n+1):\n",
    "            dp[i] = dp[i-1] +dp[i-2]\n",
    "        return dp[n]"
   ]
  },
  {
   "cell_type": "markdown",
   "id": "7d7b8672",
   "metadata": {},
   "source": [
    "### Min Cost Climbing Stairs\n",
    "You are given an integer array cost where cost[i] is the cost of ith step on a staircase. Once you pay the cost, you can either climb one or two steps.\n",
    "\n",
    "You can either start from the step with index 0, or the step with index 1.\n",
    "\n",
    "Return the minimum cost to reach the top of the floor."
   ]
  },
  {
   "cell_type": "code",
   "execution_count": 7,
   "id": "c4574b73",
   "metadata": {},
   "outputs": [],
   "source": [
    "class Solution(object):\n",
    "    def minCostClimbingStairs(self, cost):\n",
    "        \"\"\"\n",
    "        :type cost: List[int]\n",
    "        :rtype: int\n",
    "        \"\"\"\n",
    "        res = [0]*(len(cost)+1)\n",
    "        res[0], res[1] = 0,0\n",
    "        for i in range(2,len(res)):\n",
    "            res[i] = min(res[i-1]+cost[i-1],res[i-2]+cost[i-2])\n",
    "        return res[-1]"
   ]
  },
  {
   "cell_type": "markdown",
   "id": "054f9fba",
   "metadata": {},
   "source": [
    "## Graphs"
   ]
  },
  {
   "cell_type": "markdown",
   "id": "30cbe084",
   "metadata": {},
   "source": [
    "### Number of Islands\n",
    "Given an m x n 2D binary grid grid which represents a map of '1's (land) and '0's (water), return the number of islands.\n",
    "\n",
    "An island is surrounded by water and is formed by connecting adjacent lands horizontally or vertically. You may assume all four edges of the grid are all surrounded by water."
   ]
  },
  {
   "cell_type": "code",
   "execution_count": null,
   "id": "ba8c91a5",
   "metadata": {},
   "outputs": [],
   "source": [
    "class Solution(object):\n",
    "    def numIslands(self, grid):\n",
    "        if not grid:\n",
    "            return 0\n",
    "            \n",
    "        count = 0\n",
    "        for i in range(len(grid)):\n",
    "            for j in range(len(grid[0])):\n",
    "                if grid[i][j] == '1':\n",
    "                    self.dfs(grid, i, j)\n",
    "                    count += 1\n",
    "        return count\n",
    "\n",
    "    def dfs(self, grid, i, j):\n",
    "        if i<0 or j<0 or i>=len(grid) or j>=len(grid[0]) or grid[i][j] != '1':\n",
    "            return\n",
    "        grid[i][j] = '#'\n",
    "        self.dfs(grid, i+1, j)\n",
    "        self.dfs(grid, i-1, j)\n",
    "        self.dfs(grid, i, j+1)\n",
    "        self.dfs(grid, i, j-1)"
   ]
  },
  {
   "cell_type": "markdown",
   "id": "80be2ac5",
   "metadata": {},
   "source": [
    "### Clone Graph"
   ]
  },
  {
   "cell_type": "markdown",
   "id": "3ffdaa77",
   "metadata": {},
   "source": [
    "Given a reference of a node in a connected undirected graph.\n",
    "\n",
    "Return a deep copy (clone) of the graph.\n",
    "\n",
    "Each node in the graph contains a value (int) and a list (List[Node]) of its neighbors."
   ]
  },
  {
   "cell_type": "code",
   "execution_count": null,
   "id": "4209bbd8",
   "metadata": {},
   "outputs": [],
   "source": [
    "\"\"\"\n",
    "# Definition for a Node.\n",
    "class Node(object):\n",
    "    def __init__(self, val = 0, neighbors = None):\n",
    "        self.val = val\n",
    "        self.neighbors = neighbors if neighbors is not None else []\n",
    "\"\"\"\n",
    "\n",
    "class Solution(object):\n",
    "\n",
    "    def cloneGraph(self, node):\n",
    "        if not node:\n",
    "            return \n",
    "        nodeCopy = Node(node.val, [])\n",
    "        dic = {node: nodeCopy}\n",
    "        self.dfs(node, dic)\n",
    "        return nodeCopy\n",
    "\n",
    "    def dfs(self, node, dic):\n",
    "        for neighbor in node.neighbors:\n",
    "            if neighbor not in dic:\n",
    "                neighborCopy = Node(neighbor.val, [])\n",
    "                dic[neighbor] = neighborCopy\n",
    "                dic[node].neighbors.append(neighborCopy)\n",
    "                self.dfs(neighbor, dic)\n",
    "            else:\n",
    "                dic[node].neighbors.append(dic[neighbor])"
   ]
  },
  {
   "cell_type": "markdown",
   "id": "9aec2072",
   "metadata": {},
   "source": [
    "### Max Area of Island\n",
    "You are given an m x n binary matrix grid. An island is a group of 1's (representing land) connected 4-directionally (horizontal or vertical.) You may assume all four edges of the grid are surrounded by water.\n",
    "\n",
    "The area of an island is the number of cells with a value 1 in the island.\n",
    "\n",
    "Return the maximum area of an island in grid. If there is no island, return 0."
   ]
  },
  {
   "cell_type": "code",
   "execution_count": null,
   "id": "f4501a87",
   "metadata": {},
   "outputs": [],
   "source": [
    "class Solution(object):\n",
    "    def maxAreaOfIsland(self, grid):\n",
    "        \"\"\"\n",
    "        :type grid: List[List[int]]\n",
    "        :rtype: int\n",
    "        \"\"\"\n",
    "        def dfs(i,j):\n",
    "            if i<0 or j<0 or i>=len(grid) or j>=len(grid[0]) or grid[i][j]!=1:\n",
    "                return 0\n",
    "            else:\n",
    "                grid[i][j] = 2\n",
    "                return 1+dfs(i+1,j)+dfs(i-1,j)+dfs(i,j+1)+dfs(i,j-1)\n",
    "                \n",
    "        if not grid:\n",
    "            return 0\n",
    "\n",
    "        maxval = 0\n",
    "        for i in range(len(grid)):\n",
    "            for j in range(len(grid[0])):\n",
    "                if grid[i][j] == 1:\n",
    "                    maxval = max(dfs(i,j),maxval)\n",
    "        return maxval"
   ]
  },
  {
   "cell_type": "markdown",
   "id": "e529b02c",
   "metadata": {},
   "source": [
    "## Bit Manipulation"
   ]
  },
  {
   "cell_type": "markdown",
   "id": "843d9870",
   "metadata": {},
   "source": [
    "### Single Number\n",
    "Given a non-empty array of integers nums, every element appears twice except for one. Find that single one.\n",
    "\n",
    "You must implement a solution with a linear runtime complexity and use only constant extra space."
   ]
  },
  {
   "cell_type": "code",
   "execution_count": null,
   "id": "a024a7c5",
   "metadata": {},
   "outputs": [],
   "source": [
    "class Solution(object):\n",
    "    def singleNumber(self, nums):\n",
    "        \"\"\"\n",
    "        :type nums: List[int]\n",
    "        :rtype: int\n",
    "        \"\"\"\n",
    "        res = 0\n",
    "        for num in nums:\n",
    "            res ^= num\n",
    "        return res"
   ]
  },
  {
   "cell_type": "markdown",
   "id": "c2bd268b",
   "metadata": {},
   "source": [
    "### Number of 1 Bits\n",
    "Write a function that takes the binary representation of an unsigned integer and returns the number of '1' bits it has (also known as the Hamming weight).\n",
    "\n",
    "Note:\n",
    "\n",
    "Note that in some languages, such as Java, there is no unsigned integer type. In this case, the input will be given as a signed integer type. It should not affect your implementation, as the integer's internal binary representation is the same, whether it is signed or unsigned.\n",
    "In Java, the compiler represents the signed integers using 2's complement notation. Therefore, in Example 3, the input represents the signed integer. -3."
   ]
  },
  {
   "cell_type": "code",
   "execution_count": null,
   "id": "a36df0d7",
   "metadata": {},
   "outputs": [],
   "source": [
    "class Solution(object):\n",
    "    def hammingWeight(self, n):\n",
    "        \"\"\"\n",
    "        :type n: int\n",
    "        :rtype: int\n",
    "        \"\"\"\n",
    "        res = 0\n",
    "        while n > 0:\n",
    "            n &= (n-1)\n",
    "            res += 1\n",
    "        return res\n",
    "        # count = 0\n",
    "        # while n:\n",
    "        #     if n & 1: count += 1\n",
    "        #     n = n >> 1\n",
    "        # return count"
   ]
  },
  {
   "cell_type": "markdown",
   "id": "b56814d3",
   "metadata": {},
   "source": [
    "### Counting Bits\n",
    "Given an integer n, return an array ans of length n + 1 such that for each i (0 <= i <= n), ans[i] is the number of 1's in the binary representation of i."
   ]
  },
  {
   "cell_type": "code",
   "execution_count": 1,
   "id": "844ceac3",
   "metadata": {},
   "outputs": [],
   "source": [
    "class Solution(object):\n",
    "    def countBits(self, n):\n",
    "        \"\"\"\n",
    "        :type n: int\n",
    "        :rtype: List[int]\n",
    "        \"\"\"\n",
    "        dp = [0]*(n+1)\n",
    "        offset = 1\n",
    "        \n",
    "        for i in range(1,n+1):\n",
    "            if offset*2 == i:\n",
    "                offset = i\n",
    "            dp[i] = 1 + dp[i-offset]\n",
    "        \n",
    "        return dp"
   ]
  },
  {
   "cell_type": "markdown",
   "id": "1fe2d006",
   "metadata": {},
   "source": [
    "### Reverse Bits\n",
    "Reverse bits of a given 32 bits unsigned integer.\n",
    "\n",
    "Note:\n",
    "\n",
    "Note that in some languages, such as Java, there is no unsigned integer type. In this case, both input and output will be given as a signed integer type. They should not affect your implementation, as the integer's internal binary representation is the same, whether it is signed or unsigned.\n",
    "In Java, the compiler represents the signed integers using 2's complement notation. Therefore, in Example 2 above, the input represents the signed integer -3 and the output represents the signed integer -1073741825."
   ]
  },
  {
   "cell_type": "code",
   "execution_count": 2,
   "id": "f8377120",
   "metadata": {},
   "outputs": [],
   "source": [
    "class Solution:\n",
    "    # @param n, an integer\n",
    "    # @return an integer\n",
    "    def reverseBits(self, n):\n",
    "        res = 0\n",
    "        for _ in range(32):\n",
    "            res = res<<1\n",
    "            res += n&1\n",
    "            n>>=1\n",
    "        return res"
   ]
  },
  {
   "cell_type": "markdown",
   "id": "0d544d32",
   "metadata": {},
   "source": [
    "### Missing Number\n",
    "Given an array nums containing n distinct numbers in the range [0, n], return the only number in the range that is missing from the array."
   ]
  },
  {
   "cell_type": "code",
   "execution_count": 3,
   "id": "576568ba",
   "metadata": {},
   "outputs": [],
   "source": [
    "class Solution(object):\n",
    "    def missingNumber(self, nums):\n",
    "        \"\"\"\n",
    "        :type nums: List[int]\n",
    "        :rtype: int\n",
    "        \"\"\"\n",
    "        res = 0\n",
    "        for i in range(0,len(nums)):\n",
    "            res ^= i+1\n",
    "            res ^= nums[i]\n",
    "        return res"
   ]
  },
  {
   "cell_type": "code",
   "execution_count": 4,
   "id": "a0b56a6e",
   "metadata": {},
   "outputs": [],
   "source": [
    "class Solution(object):\n",
    "    def missingNumber(self, nums):\n",
    "        \"\"\"\n",
    "        :type nums: List[int]\n",
    "        :rtype: int\n",
    "        \"\"\"\n",
    "        res = len(nums)\n",
    "        for i in range(len(nums)):\n",
    "            res += (i-nums[i])\n",
    "        return res"
   ]
  },
  {
   "cell_type": "markdown",
   "id": "b67931e0",
   "metadata": {},
   "source": [
    "## Intervals"
   ]
  },
  {
   "cell_type": "markdown",
   "id": "1b777f95",
   "metadata": {},
   "source": [
    "### Insert Interval\n",
    "You are given an array of non-overlapping intervals intervals where intervals[i] = [starti, endi] represent the start and the end of the ith interval and intervals is sorted in ascending order by starti. You are also given an interval newInterval = [start, end] that represents the start and end of another interval.\n",
    "\n",
    "Insert newInterval into intervals such that intervals is still sorted in ascending order by starti and intervals still does not have any overlapping intervals (merge overlapping intervals if necessary).\n",
    "\n",
    "Return intervals after the insertion."
   ]
  },
  {
   "cell_type": "code",
   "execution_count": 1,
   "id": "48257b30",
   "metadata": {},
   "outputs": [],
   "source": [
    "class Solution(object):\n",
    "    def insert(self, intervals, newInterval):\n",
    "        \"\"\"\n",
    "        :type intervals: List[List[int]]\n",
    "        :type newInterval: List[int]\n",
    "        :rtype: List[List[int]]\n",
    "        \"\"\"\n",
    "        res = []\n",
    "        for i in range(len(intervals)):\n",
    "            if newInterval[1]<intervals[i][0]:\n",
    "                res.append(newInterval)\n",
    "                return res + intervals[i:]\n",
    "\n",
    "            elif newInterval[0]>intervals[i][1]:\n",
    "                res.append(intervals[i])\n",
    "\n",
    "            else:\n",
    "                newInterval = [min(newInterval[0],intervals[i][0]),max(newInterval[1],intervals[i][1])]\n",
    "        res.append(newInterval)\n",
    "        return res"
   ]
  },
  {
   "cell_type": "markdown",
   "id": "0e692a69",
   "metadata": {},
   "source": [
    "### Merge Intervals\n",
    "Given an array of intervals where intervals[i] = [starti, endi], merge all overlapping intervals, and return an array of the non-overlapping intervals that cover all the intervals in the input."
   ]
  },
  {
   "cell_type": "code",
   "execution_count": 2,
   "id": "73074655",
   "metadata": {},
   "outputs": [],
   "source": [
    "class Solution(object):\n",
    "    def merge(self, intervals):\n",
    "        \"\"\"\n",
    "        :type intervals: List[List[int]]\n",
    "        :rtype: List[List[int]]\n",
    "        \"\"\"\n",
    "        res = [intervals[0]]\n",
    "        j=0\n",
    "        for i in range(1,len(intervals)):\n",
    "            if intervals[i][0]<=res[j][1]:\n",
    "                if intervals[i][1]<res[j][0]:\n",
    "                    res.insert(j,intervals[i])\n",
    "                else:\n",
    "                    res[j]=[min(res[j][0],intervals[i][0]),max(res[j][1],intervals[i][1])]\n",
    "            else:\n",
    "                res.append(intervals[i])\n",
    "                j+=1\n",
    "        return res"
   ]
  },
  {
   "cell_type": "markdown",
   "id": "d44197a9",
   "metadata": {},
   "source": [
    "## Greedy"
   ]
  },
  {
   "cell_type": "markdown",
   "id": "387d9131",
   "metadata": {},
   "source": [
    "### Jump Game\n",
    "You are given an integer array nums. You are initially positioned at the array's first index, and each element in the array represents your maximum jump length at that position.\n",
    "\n",
    "Return true if you can reach the last index, or false otherwise."
   ]
  },
  {
   "cell_type": "code",
   "execution_count": 3,
   "id": "b7dcb27b",
   "metadata": {},
   "outputs": [],
   "source": [
    "class Solution(object):\n",
    "    def canJump(self, nums):\n",
    "        \"\"\"\n",
    "        :type nums: List[int]\n",
    "        :rtype: bool\n",
    "        \"\"\"\n",
    "        if len(nums) == 1:\n",
    "            return True\n",
    "\n",
    "        def searchthisblock(i):\n",
    "            if i >= len(nums)-1:\n",
    "                return True\n",
    "            elif nums[i] == 0:\n",
    "                return False\n",
    "            else:\n",
    "                for k in range(1,nums[i]+1):\n",
    "                    if searchthisblock(i+k) == True:\n",
    "                        return True\n",
    "                nums[i] = 0\n",
    "        \n",
    "        for j in range(nums[0]):\n",
    "            if searchthisblock(j) == True:\n",
    "                return True\n",
    "        return False"
   ]
  },
  {
   "cell_type": "code",
   "execution_count": 4,
   "id": "4bcb9492",
   "metadata": {},
   "outputs": [],
   "source": [
    "def canJump(self, nums):\n",
    "    m = 0\n",
    "    for i, n in enumerate(nums):\n",
    "        if i > m:\n",
    "            return False\n",
    "        m = max(m, i+n)\n",
    "    return True"
   ]
  },
  {
   "cell_type": "markdown",
   "id": "b87c71fc",
   "metadata": {},
   "source": [
    "### Jump Game II\n",
    "You are given a 0-indexed array of integers nums of length n. You are initially positioned at nums[0].\n",
    "\n",
    "Each element nums[i] represents the maximum length of a forward jump from index i. In other words, if you are at nums[i], you can jump to any nums[i + j] where:\n",
    "\n",
    "0 <= j <= nums[i] and\n",
    "i + j < n\n",
    "Return the minimum number of jumps to reach nums[n - 1]. The test cases are generated such that you can reach nums[n - 1]."
   ]
  },
  {
   "cell_type": "code",
   "execution_count": 5,
   "id": "5a42ef5f",
   "metadata": {},
   "outputs": [],
   "source": [
    "class Solution(object):\n",
    "    def jump(self, nums):\n",
    "        \"\"\"\n",
    "        :type nums: List[int]\n",
    "        :rtype: int\n",
    "        \"\"\"\n",
    "        def searchthisindex(i):\n",
    "            my_max = i+nums[i]\n",
    "            if my_max >= len(nums)-1: return my_max \n",
    "            maxindex = i\n",
    "            possiblemax = 0\n",
    "            for j in range(i+1,my_max+1):\n",
    "                if j+nums[j]>possiblemax:\n",
    "                    maxindex = j\n",
    "                    possiblemax = j+nums[j]\n",
    "\n",
    "            return maxindex\n",
    "\n",
    "        steps = 0\n",
    "        index = 0\n",
    "        while index < len(nums)-1:\n",
    "            index = searchthisindex(index)\n",
    "            steps += 1\n",
    "        return steps"
   ]
  },
  {
   "cell_type": "markdown",
   "id": "59306dbc",
   "metadata": {},
   "source": [
    "## Advanced Graphs"
   ]
  },
  {
   "cell_type": "markdown",
   "id": "2803e1eb",
   "metadata": {},
   "source": [
    "### Min Cost to Connect All Points\n",
    "You are given an array points representing integer coordinates of some points on a 2D-plane, where points[i] = [xi, yi].\n",
    "\n",
    "The cost of connecting two points [xi, yi] and [xj, yj] is the manhattan distance between them: |xi - xj| + |yi - yj|, where |val| denotes the absolute value of val.\n",
    "\n",
    "Return the minimum cost to make all points connected. All points are connected if there is exactly one simple path between any two points."
   ]
  },
  {
   "cell_type": "code",
   "execution_count": 6,
   "id": "52ab3c3a",
   "metadata": {},
   "outputs": [],
   "source": [
    "class Solution(object):\n",
    "    def minCostConnectPoints(self, points):\n",
    "        \"\"\"\n",
    "        :type points: List[List[int]]\n",
    "        :rtype: int\n",
    "        \"\"\"\n",
    "        if len(points)==1:\n",
    "            return 0\n",
    "        manhattan = lambda p1,p2: abs(p1[0]-p2[0])+abs(p1[1]-p2[1])\n",
    "        # visited = []\n",
    "        mydict = {}\n",
    "        res = 0\n",
    "        for i in range(len(points)):\n",
    "            # if i in visited:\n",
    "            #     continue\n",
    "            # visited.append(i)\n",
    "            mincost = 20000001\n",
    "            minindex = -1\n",
    "            for j in range(len(points)):\n",
    "                curr = manhattan(points[i],points[j])\n",
    "                if j == i:\n",
    "                    continue\n",
    "                if curr < mincost:\n",
    "                    minindex = j\n",
    "                    mincost = curr\n",
    "            if minindex in mydict and mydict[minindex]==i:\n",
    "                continue\n",
    "            mydict[i]=minindex\n",
    "            res += mincost\n",
    "            # visited.append(j)\n",
    "\n",
    "        return res"
   ]
  },
  {
   "cell_type": "code",
   "execution_count": 1,
   "id": "e7174d39",
   "metadata": {},
   "outputs": [],
   "source": [
    "class Solution(object):\n",
    "    def minCostConnectPoints(self, points):\n",
    "        \"\"\"\n",
    "        :type points: List[List[int]]\n",
    "        :rtype: int\n",
    "        \"\"\"\n",
    "        N = len(points)\n",
    "\n",
    "        adj = {i:[] for i in range(N)}\n",
    "\n",
    "        for i in range(N):\n",
    "            x1,y1 = points[i]\n",
    "            for j in range(i+1,N):\n",
    "                x2,y2 = points[j]\n",
    "                dist = abs(x1-x2)+abs(y1-y2)\n",
    "                adj[i].append([dist,j])\n",
    "                adj[j].append([dist,i])\n",
    "\n",
    "        res = 0\n",
    "        visit = set()\n",
    "        minH = [[0,0]]\n",
    "        while len(visit)<N:\n",
    "            cost,i = heapq.heappop(minH)\n",
    "            if i in visit:\n",
    "                continue\n",
    "            res += cost\n",
    "            visit.add(i)\n",
    "            for neiCost,nei in adj[i]:\n",
    "                if nei not in visit:\n",
    "                    heapq.heappush(minH,[neiCost,nei])\n",
    "        return res"
   ]
  },
  {
   "cell_type": "markdown",
   "id": "38702c98",
   "metadata": {},
   "source": [
    "### Network Delay Time\n",
    "You are given a network of n nodes, labeled from 1 to n. You are also given times, a list of travel times as directed edges times[i] = (ui, vi, wi), where ui is the source node, vi is the target node, and wi is the time it takes for a signal to travel from source to target.\n",
    "\n",
    "We will send a signal from a given node k. Return the minimum time it takes for all the n nodes to receive the signal. If it is impossible for all the n nodes to receive the signal, return -1."
   ]
  },
  {
   "cell_type": "code",
   "execution_count": 2,
   "id": "0f646179",
   "metadata": {},
   "outputs": [],
   "source": [
    "class Solution(object):\n",
    "    def networkDelayTime(self, times, n, k):\n",
    "        \"\"\"\n",
    "        :type times: List[List[int]]\n",
    "        :type n: int\n",
    "        :type k: int\n",
    "        :rtype: int\n",
    "        \"\"\"\n",
    "        q, t, adj = [(0, k)], {}, collections.defaultdict(list)\n",
    "        for u, v, w in times:\n",
    "            adj[u].append((v, w))\n",
    "        while q:\n",
    "            time, node = heapq.heappop(q)\n",
    "            if node not in t:\n",
    "                t[node] = time\n",
    "                for v, w in adj[node]:\n",
    "                    heapq.heappush(q, (time + w, v))\n",
    "        return max(t.values()) if len(t) == n else -1"
   ]
  },
  {
   "cell_type": "markdown",
   "id": "0484bd39",
   "metadata": {},
   "source": [
    "## 2-D Dynamic Programming"
   ]
  },
  {
   "cell_type": "markdown",
   "id": "c7629d93",
   "metadata": {},
   "source": [
    "### Unique Paths\n",
    "There is a robot on an m x n grid. The robot is initially located at the top-left corner (i.e., grid[0][0]). The robot tries to move to the bottom-right corner (i.e., grid[m - 1][n - 1]). The robot can only move either down or right at any point in time.\n",
    "\n",
    "Given the two integers m and n, return the number of possible unique paths that the robot can take to reach the bottom-right corner.\n",
    "\n",
    "The test cases are generated so that the answer will be less than or equal to 2 * 109."
   ]
  },
  {
   "cell_type": "code",
   "execution_count": 3,
   "id": "123bedee",
   "metadata": {},
   "outputs": [],
   "source": [
    "class Solution(object):\n",
    "    def uniquePaths(self, m, n):\n",
    "        \"\"\"\n",
    "        :type m: int\n",
    "        :type n: int\n",
    "        :rtype: int\n",
    "        \"\"\"\n",
    "        row = [1]*n\n",
    "\n",
    "        for i in range(m-1):\n",
    "            for j in range(n-2,-1,-1):\n",
    "                row[j] = row[j+1]+row[j]\n",
    "        return row[0]"
   ]
  },
  {
   "cell_type": "markdown",
   "id": "cc101c16",
   "metadata": {},
   "source": [
    "### Longest Common Subsequence\n",
    "Given two strings text1 and text2, return the length of their longest common subsequence. If there is no common subsequence, return 0.\n",
    "\n",
    "A subsequence of a string is a new string generated from the original string with some characters (can be none) deleted without changing the relative order of the remaining characters.\n",
    "\n",
    "For example, \"ace\" is a subsequence of \"abcde\".\n",
    "A common subsequence of two strings is a subsequence that is common to both strings."
   ]
  },
  {
   "cell_type": "code",
   "execution_count": 4,
   "id": "1c9688bf",
   "metadata": {},
   "outputs": [],
   "source": [
    "class Solution(object):\n",
    "    def longestCommonSubsequence(self, text1, text2):\n",
    "        \"\"\"\n",
    "        :type text1: str\n",
    "        :type text2: str\n",
    "        :rtype: int\n",
    "        \"\"\"\n",
    "        dp = [[0 for j in range(len(text2)+1)] for i in range(len(text1)+1)]\n",
    "        for i in range(len(text1)-1,-1,-1):\n",
    "            for j in range(len(text2)-1,-1,-1):\n",
    "                if text1[i] == text2[j]:\n",
    "                    dp[i][j] = 1 + dp[i+1][j+1]\n",
    "                else:\n",
    "                    dp[i][j] = max(dp[i][j+1],dp[i+1][j])\n",
    "        return dp[0][0]"
   ]
  },
  {
   "cell_type": "markdown",
   "id": "57a9770a",
   "metadata": {},
   "source": [
    "### Best Time to Buy And Sell Stock With Cooldown\n",
    "You are given an array prices where prices[i] is the price of a given stock on the ith day.\n",
    "\n",
    "Find the maximum profit you can achieve. You may complete as many transactions as you like (i.e., buy one and sell one share of the stock multiple times) with the following restrictions:\n",
    "\n",
    "After you sell your stock, you cannot buy stock on the next day (i.e., cooldown one day).\n",
    "Note: You may not engage in multiple transactions simultaneously (i.e., you must sell the stock before you buy again)."
   ]
  },
  {
   "cell_type": "code",
   "execution_count": null,
   "id": "fd19e5c7",
   "metadata": {},
   "outputs": [],
   "source": []
  },
  {
   "cell_type": "markdown",
   "id": "5bc44988",
   "metadata": {},
   "source": [
    "## Math & Geometry"
   ]
  },
  {
   "cell_type": "markdown",
   "id": "ec045126",
   "metadata": {},
   "source": [
    "### Happy Number\n",
    "Write an algorithm to determine if a number n is happy.\n",
    "\n",
    "A happy number is a number defined by the following process:\n",
    "\n",
    "Starting with any positive integer, replace the number by the sum of the squares of its digits.\n",
    "Repeat the process until the number equals 1 (where it will stay), or it loops endlessly in a cycle which does not include 1.\n",
    "Those numbers for which this process ends in 1 are happy.\n",
    "Return true if n is a happy number, and false if not."
   ]
  },
  {
   "cell_type": "code",
   "execution_count": 5,
   "id": "3e8a570c",
   "metadata": {},
   "outputs": [],
   "source": [
    "class Solution(object):\n",
    "    def isHappy(self, n):\n",
    "        \"\"\"\n",
    "        :type n: int\n",
    "        :rtype: bool\n",
    "        \"\"\"\n",
    "        visit = set()\n",
    "        def currsum(n):\n",
    "            res = 0\n",
    "            while n > 0:\n",
    "                res += (n%10)**2\n",
    "                n = int(n/10)\n",
    "            return res\n",
    "        while True:\n",
    "            curr = currsum(n)\n",
    "            if curr == 1:\n",
    "                return True\n",
    "            elif curr in visit:\n",
    "                return False\n",
    "            else:\n",
    "                visit.add(curr)\n",
    "                n = curr"
   ]
  },
  {
   "cell_type": "markdown",
   "id": "5f426bbb",
   "metadata": {},
   "source": [
    "### Plus One\n",
    "You are given a large integer represented as an integer array digits, where each digits[i] is the ith digit of the integer. The digits are ordered from most significant to least significant in left-to-right order. The large integer does not contain any leading 0's.\n",
    "\n",
    "Increment the large integer by one and return the resulting array of digits."
   ]
  },
  {
   "cell_type": "code",
   "execution_count": 6,
   "id": "86af505d",
   "metadata": {},
   "outputs": [],
   "source": [
    "class Solution(object):\n",
    "    def plusOne(self, digits):\n",
    "        \"\"\"\n",
    "        :type digits: List[int]\n",
    "        :rtype: List[int]\n",
    "        \"\"\"\n",
    "        currindex = len(digits)-1\n",
    "        digits[currindex] += 1\n",
    "        curr = digits[currindex]\n",
    "        while curr>=10 and currindex > 0:\n",
    "            digits[currindex] = 0\n",
    "            digits[currindex-1] += 1\n",
    "            currindex -= 1\n",
    "            curr = digits[currindex]\n",
    "        if digits[0] == 10:\n",
    "            digits[0] = 0\n",
    "            digits.insert(0,1)\n",
    "        return digits"
   ]
  },
  {
   "cell_type": "code",
   "execution_count": 7,
   "id": "b56d3d77",
   "metadata": {},
   "outputs": [],
   "source": [
    "def plusOne(self, digits):\n",
    "    length = len(digits) - 1\n",
    "    while digits[length] == 9:\n",
    "        digits[length] = 0\n",
    "        length -= 1\n",
    "    if(length < 0):\n",
    "        digits = [1] + digits\n",
    "    else:\n",
    "        digits[length] += 1\n",
    "    return digits"
   ]
  },
  {
   "cell_type": "markdown",
   "id": "bec1d1e7",
   "metadata": {},
   "source": [
    "### Rotate Image\n",
    "You are given an n x n 2D matrix representing an image, rotate the image by 90 degrees (clockwise).\n",
    "\n",
    "You have to rotate the image in-place, which means you have to modify the input 2D matrix directly. DO NOT allocate another 2D matrix and do the rotation."
   ]
  },
  {
   "cell_type": "code",
   "execution_count": 8,
   "id": "c7b2ceba",
   "metadata": {},
   "outputs": [],
   "source": [
    "class Solution(object):\n",
    "    def rotate(self, matrix):\n",
    "        \"\"\"\n",
    "        :type matrix: List[List[int]]\n",
    "        :rtype: None Do not return anything, modify matrix in-place instead.\n",
    "        \"\"\"\n",
    "        n = len(matrix)\n",
    "        for i in range(n):\n",
    "            col = []\n",
    "            for j in range(n-1,-1,-1):\n",
    "                col.append(matrix[j][i])\n",
    "            matrix.append(col)\n",
    "\n",
    "        for i in range(n):\n",
    "            matrix.pop(0)"
   ]
  },
  {
   "cell_type": "code",
   "execution_count": 9,
   "id": "d41e61c5",
   "metadata": {},
   "outputs": [],
   "source": [
    "class Solution(object):\n",
    "    def rotate(self, matrix):\n",
    "        \"\"\"\n",
    "        :type matrix: List[List[int]]\n",
    "        :rtype: None Do not return anything, modify matrix in-place instead.\n",
    "        \"\"\"\n",
    "        l,r = 0,len(matrix)-1\n",
    "        \n",
    "        while l < r:\n",
    "            for i in range(r-l):\n",
    "                top, bottom = l,r\n",
    "                topleft = matrix[top][l+i]\n",
    "                \n",
    "                matrix[top][l+i] = matrix[bottom-i][l]\n",
    "                matrix[bottom-i][l] = matrix[bottom][r-i]\n",
    "                matrix[bottom][r-i] = matrix[top+i][r]\n",
    "                matrix[top+i][r] = topleft\n",
    "            r -= 1\n",
    "            l += 1"
   ]
  },
  {
   "cell_type": "code",
   "execution_count": null,
   "id": "fe60ab5e",
   "metadata": {},
   "outputs": [],
   "source": []
  }
 ],
 "metadata": {
  "kernelspec": {
   "display_name": "Python 3 (ipykernel)",
   "language": "python",
   "name": "python3"
  },
  "language_info": {
   "codemirror_mode": {
    "name": "ipython",
    "version": 3
   },
   "file_extension": ".py",
   "mimetype": "text/x-python",
   "name": "python",
   "nbconvert_exporter": "python",
   "pygments_lexer": "ipython3",
   "version": "3.11.5"
  }
 },
 "nbformat": 4,
 "nbformat_minor": 5
}
